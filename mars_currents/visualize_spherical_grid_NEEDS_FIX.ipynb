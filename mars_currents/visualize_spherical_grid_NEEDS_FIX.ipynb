{
 "cells": [
  {
   "cell_type": "code",
   "execution_count": 1,
   "metadata": {
    "tags": []
   },
   "outputs": [],
   "source": [
    "import numpy as np\n",
    "import matplotlib as mpl\n",
    "from matplotlib import pyplot as plt    \n",
    "from mpl_toolkits.mplot3d import Axes3D\n",
    "import grid.cell\n",
    "from grid.cell import Cell\n",
    "import plotly\n",
    "from plotly.subplots import make_subplots\n",
    "import plotly.graph_objects as go"
   ]
  },
  {
   "cell_type": "code",
   "execution_count": 7,
   "metadata": {
    "tags": []
   },
   "outputs": [],
   "source": [
    "dr = 0.3; dth = np.deg2rad(15); dphi = np.deg2rad(20)\n",
    "r = np.arange(1, 3+dr, dr)\n",
    "th = np.arange(0 + dth/2, np.pi, dth)\n",
    "\n",
    "phi = np.arange(-np.pi, np.pi, dphi)\n",
    "\n",
    "r_idx = []\n",
    "th_idx = []\n",
    "phi_idx = []\n",
    "\n",
    "for i in range(len(r)):\n",
    "    for j in range(len(th)):\n",
    "        for k in range(len(phi)):\n",
    "\n",
    "            r_idx.append(i)\n",
    "            th_idx.append(j)\n",
    "            phi_idx.append(k)\n",
    "\n",
    "            if th[j] == -np.pi/2 or th[j] == np.pi/2:\n",
    "                break\n",
    "                \n",
    "cells = [Cell(dr, dth, dphi, r_idx[i], th_idx[i], phi_idx[i], r, th, phi) for i in range(len(r_idx))]"
   ]
  },
  {
   "cell_type": "code",
   "execution_count": 8,
   "metadata": {
    "tags": []
   },
   "outputs": [],
   "source": [
    "\n",
    "cells_list=[cell for cell in cells[100:] if ((cell.phi_c<=np.deg2rad(-60) or cell.phi_c>=np.deg2rad(+60)) and cell.r_c<=2 and cell.r_c>=1)]\n",
    "cells_plot = cells#[x  for sublist in cells_list for x in sublist]"
   ]
  },
  {
   "cell_type": "code",
   "execution_count": 9,
   "metadata": {
    "tags": []
   },
   "outputs": [
    {
     "ename": "ValueError",
     "evalue": "Points cannot contain NaN",
     "output_type": "error",
     "traceback": [
      "\u001b[0;31m---------------------------------------------------------------------------\u001b[0m",
      "\u001b[0;31mValueError\u001b[0m                                Traceback (most recent call last)",
      "Cell \u001b[0;32mIn[9], line 2\u001b[0m\n\u001b[1;32m      1\u001b[0m fig \u001b[38;5;241m=\u001b[39m make_subplots()\n\u001b[0;32m----> 2\u001b[0m [c\u001b[38;5;241m.\u001b[39mplot_cell(fig, \u001b[38;5;241m50\u001b[39m, color_faces \u001b[38;5;241m=\u001b[39m \u001b[38;5;28;01mTrue\u001b[39;00m, plot_neighbours \u001b[38;5;241m=\u001b[39m \u001b[38;5;28;01mTrue\u001b[39;00m) \u001b[38;5;28;01mfor\u001b[39;00m c \u001b[38;5;129;01min\u001b[39;00m cells_plot]\u001b[38;5;66;03m# if (c.phi_c>30 and c.phi_c<=270 and c.r_c>2) or (c.r_c<=2)]\u001b[39;00m\n\u001b[1;32m      3\u001b[0m graph_lim \u001b[38;5;241m=\u001b[39m [\u001b[38;5;241m-\u001b[39m\u001b[38;5;241m1.9\u001b[39m, \u001b[38;5;241m1.9\u001b[39m]\n\u001b[1;32m      4\u001b[0m fig\u001b[38;5;241m.\u001b[39mupdate_layout(title\u001b[38;5;241m=\u001b[39m\u001b[38;5;124m'\u001b[39m\u001b[38;5;124mgrid cells\u001b[39m\u001b[38;5;124m'\u001b[39m,\n\u001b[1;32m      5\u001b[0m                   \u001b[38;5;66;03m# scene = dict(\u001b[39;00m\n\u001b[1;32m      6\u001b[0m                   \u001b[38;5;66;03m#    xaxis = dict(nticks=4, range=graph_lim),\u001b[39;00m\n\u001b[1;32m      7\u001b[0m                   \u001b[38;5;66;03m#    yaxis = dict(nticks=4, range=graph_lim),\u001b[39;00m\n\u001b[1;32m      8\u001b[0m                   \u001b[38;5;66;03m#    zaxis = dict(nticks=4, range=graph_lim)),# autosize=True,\u001b[39;00m\n\u001b[1;32m      9\u001b[0m                   width\u001b[38;5;241m=\u001b[39m\u001b[38;5;241m650\u001b[39m, height\u001b[38;5;241m=\u001b[39m\u001b[38;5;241m650\u001b[39m, showlegend\u001b[38;5;241m=\u001b[39m\u001b[38;5;28;01mFalse\u001b[39;00m)\n",
      "Cell \u001b[0;32mIn[9], line 2\u001b[0m, in \u001b[0;36m<listcomp>\u001b[0;34m(.0)\u001b[0m\n\u001b[1;32m      1\u001b[0m fig \u001b[38;5;241m=\u001b[39m make_subplots()\n\u001b[0;32m----> 2\u001b[0m [\u001b[43mc\u001b[49m\u001b[38;5;241;43m.\u001b[39;49m\u001b[43mplot_cell\u001b[49m\u001b[43m(\u001b[49m\u001b[43mfig\u001b[49m\u001b[43m,\u001b[49m\u001b[43m \u001b[49m\u001b[38;5;241;43m50\u001b[39;49m\u001b[43m,\u001b[49m\u001b[43m \u001b[49m\u001b[43mcolor_faces\u001b[49m\u001b[43m \u001b[49m\u001b[38;5;241;43m=\u001b[39;49m\u001b[43m \u001b[49m\u001b[38;5;28;43;01mTrue\u001b[39;49;00m\u001b[43m,\u001b[49m\u001b[43m \u001b[49m\u001b[43mplot_neighbours\u001b[49m\u001b[43m \u001b[49m\u001b[38;5;241;43m=\u001b[39;49m\u001b[43m \u001b[49m\u001b[38;5;28;43;01mTrue\u001b[39;49;00m\u001b[43m)\u001b[49m \u001b[38;5;28;01mfor\u001b[39;00m c \u001b[38;5;129;01min\u001b[39;00m cells_plot]\u001b[38;5;66;03m# if (c.phi_c>30 and c.phi_c<=270 and c.r_c>2) or (c.r_c<=2)]\u001b[39;00m\n\u001b[1;32m      3\u001b[0m graph_lim \u001b[38;5;241m=\u001b[39m [\u001b[38;5;241m-\u001b[39m\u001b[38;5;241m1.9\u001b[39m, \u001b[38;5;241m1.9\u001b[39m]\n\u001b[1;32m      4\u001b[0m fig\u001b[38;5;241m.\u001b[39mupdate_layout(title\u001b[38;5;241m=\u001b[39m\u001b[38;5;124m'\u001b[39m\u001b[38;5;124mgrid cells\u001b[39m\u001b[38;5;124m'\u001b[39m,\n\u001b[1;32m      5\u001b[0m                   \u001b[38;5;66;03m# scene = dict(\u001b[39;00m\n\u001b[1;32m      6\u001b[0m                   \u001b[38;5;66;03m#    xaxis = dict(nticks=4, range=graph_lim),\u001b[39;00m\n\u001b[1;32m      7\u001b[0m                   \u001b[38;5;66;03m#    yaxis = dict(nticks=4, range=graph_lim),\u001b[39;00m\n\u001b[1;32m      8\u001b[0m                   \u001b[38;5;66;03m#    zaxis = dict(nticks=4, range=graph_lim)),# autosize=True,\u001b[39;00m\n\u001b[1;32m      9\u001b[0m                   width\u001b[38;5;241m=\u001b[39m\u001b[38;5;241m650\u001b[39m, height\u001b[38;5;241m=\u001b[39m\u001b[38;5;241m650\u001b[39m, showlegend\u001b[38;5;241m=\u001b[39m\u001b[38;5;28;01mFalse\u001b[39;00m)\n",
      "File \u001b[0;32m~/Desktop/maven_proj/mars_currents/mars_code/mars_currents/grid/cell.py:354\u001b[0m, in \u001b[0;36mCell.plot_cell\u001b[0;34m(self, fig, num, color_faces, plot_neighbours)\u001b[0m\n\u001b[1;32m    351\u001b[0m face_z \u001b[38;5;241m=\u001b[39m np\u001b[38;5;241m.\u001b[39mhstack([x \u001b[38;5;28;01mfor\u001b[39;00m x \u001b[38;5;129;01min\u001b[39;00m (sides[i][\u001b[38;5;241m2\u001b[39m] \u001b[38;5;28;01mfor\u001b[39;00m i \u001b[38;5;129;01min\u001b[39;00m face_sides)])\u001b[38;5;241m.\u001b[39mflatten()\n\u001b[1;32m    353\u001b[0m points2D\u001b[38;5;241m=\u001b[39mnp\u001b[38;5;241m.\u001b[39mvstack([face_x,face_y])\u001b[38;5;241m.\u001b[39mT\n\u001b[0;32m--> 354\u001b[0m tri\u001b[38;5;241m=\u001b[39m\u001b[43mDelaunay\u001b[49m\u001b[43m(\u001b[49m\u001b[43mpoints2D\u001b[49m\u001b[43m,\u001b[49m\u001b[43m \u001b[49m\u001b[43mqhull_options\u001b[49m\u001b[38;5;241;43m=\u001b[39;49m\u001b[38;5;124;43m\"\u001b[39;49m\u001b[38;5;124;43mQJ Pp\u001b[39;49m\u001b[38;5;124;43m\"\u001b[39;49m\u001b[43m)\u001b[49m\n\u001b[1;32m    356\u001b[0m surface \u001b[38;5;241m=\u001b[39m gcm\u001b[38;5;241m.\u001b[39mplotly_trisurf(face_x,face_y,face_z, tri\u001b[38;5;241m.\u001b[39msimplices, plot_edges\u001b[38;5;241m=\u001b[39m\u001b[38;5;28;01mNone\u001b[39;00m)\n\u001b[1;32m    357\u001b[0m fig\u001b[38;5;241m.\u001b[39madd_trace(surface[\u001b[38;5;241m0\u001b[39m])\n",
      "File \u001b[0;32m_qhull.pyx:1885\u001b[0m, in \u001b[0;36mscipy.spatial._qhull.Delaunay.__init__\u001b[0;34m()\u001b[0m\n",
      "File \u001b[0;32m_qhull.pyx:280\u001b[0m, in \u001b[0;36mscipy.spatial._qhull._Qhull.__init__\u001b[0;34m()\u001b[0m\n",
      "\u001b[0;31mValueError\u001b[0m: Points cannot contain NaN"
     ]
    }
   ],
   "source": [
    "fig = make_subplots()\n",
    "[c.plot_cell(fig, 50, color_faces = True, plot_neighbours = True) for c in cells_plot]# if (c.phi_c>30 and c.phi_c<=270 and c.r_c>2) or (c.r_c<=2)]\n",
    "graph_lim = [-1.9, 1.9]\n",
    "fig.update_layout(title='grid cells',\n",
    "                  # scene = dict(\n",
    "                  #    xaxis = dict(nticks=4, range=graph_lim),\n",
    "                  #    yaxis = dict(nticks=4, range=graph_lim),\n",
    "                  #    zaxis = dict(nticks=4, range=graph_lim)),# autosize=True,\n",
    "                  width=650, height=650, showlegend=False)\n",
    "\n",
    "#fig.add_trace(go.Scatter3d(x=x_vert,y=y_vert,z=z_vert,mode='markers'))\n",
    "#fig.add_trace(go.Scatter3d(x=x_neighb,y=y_neighb,z=z_neighb,mode='markers'))\n",
    "\n",
    "fig.show()\n",
    "#plotly.offline.plot(fig, filename='lifeExp.html')\n"
   ]
  },
  {
   "cell_type": "code",
   "execution_count": 10,
   "metadata": {
    "tags": []
   },
   "outputs": [
    {
     "data": {
      "text/plain": [
       "'cell_neighbours.html'"
      ]
     },
     "execution_count": 10,
     "metadata": {},
     "output_type": "execute_result"
    }
   ],
   "source": [
    "plotly.offline.plot(fig, filename = 'cell_neighbours.html')"
   ]
  },
  {
   "cell_type": "code",
   "execution_count": null,
   "metadata": {},
   "outputs": [],
   "source": []
  }
 ],
 "metadata": {
  "kernelspec": {
   "display_name": "Python 3 (ipykernel)",
   "language": "python",
   "name": "python3"
  },
  "language_info": {
   "codemirror_mode": {
    "name": "ipython",
    "version": 3
   },
   "file_extension": ".py",
   "mimetype": "text/x-python",
   "name": "python",
   "nbconvert_exporter": "python",
   "pygments_lexer": "ipython3",
   "version": "3.10.15"
  },
  "widgets": {
   "application/vnd.jupyter.widget-state+json": {
    "state": {},
    "version_major": 2,
    "version_minor": 0
   }
  }
 },
 "nbformat": 4,
 "nbformat_minor": 4
}
