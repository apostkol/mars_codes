{
 "cells": [
  {
   "cell_type": "code",
   "execution_count": 1,
   "id": "906fe4b1-9505-4604-b9da-f238ebdea22a",
   "metadata": {
    "tags": []
   },
   "outputs": [
    {
     "name": "stderr",
     "output_type": "stream",
     "text": [
      "/home/apostolis/anaconda3/lib/python3.11/site-packages/pandas/core/arrays/masked.py:60: UserWarning: Pandas requires version '1.3.6' or newer of 'bottleneck' (version '1.3.5' currently installed).\n",
      "  from pandas.core import (\n"
     ]
    }
   ],
   "source": [
    "import mars_currents as mc\n",
    "from mc import load_mag_data_rotate_to_mse as data_mse\n",
    "import numpy as np\n",
    "import pandas as pd"
   ]
  },
  {
   "cell_type": "code",
   "execution_count": 2,
   "id": "300f2478-d8cd-4e6e-84fd-74ccfff169d9",
   "metadata": {
    "tags": []
   },
   "outputs": [],
   "source": [
    "df_weak = pd.read_csv(\"mag_mso_2014-10-11_2020-08-13_n20_weak_sw.csv\", index_col=0)"
   ]
  },
  {
   "cell_type": "code",
   "execution_count": 3,
   "id": "c4724d29-2210-4539-b123-27e10e07a9d6",
   "metadata": {
    "tags": []
   },
   "outputs": [
    {
     "data": {
      "text/html": [
       "<div>\n",
       "<style scoped>\n",
       "    .dataframe tbody tr th:only-of-type {\n",
       "        vertical-align: middle;\n",
       "    }\n",
       "\n",
       "    .dataframe tbody tr th {\n",
       "        vertical-align: top;\n",
       "    }\n",
       "\n",
       "    .dataframe thead th {\n",
       "        text-align: right;\n",
       "    }\n",
       "</style>\n",
       "<table border=\"1\" class=\"dataframe\">\n",
       "  <thead>\n",
       "    <tr style=\"text-align: right;\">\n",
       "      <th></th>\n",
       "      <th>time</th>\n",
       "      <th>Bx</th>\n",
       "      <th>By</th>\n",
       "      <th>Bz</th>\n",
       "      <th>X</th>\n",
       "      <th>Y</th>\n",
       "      <th>Z</th>\n",
       "      <th>X_aber</th>\n",
       "      <th>Y_aber</th>\n",
       "      <th>Z_aber</th>\n",
       "      <th>Bx_aber</th>\n",
       "      <th>By_aber</th>\n",
       "      <th>Bz_aber</th>\n",
       "      <th>p_dyn</th>\n",
       "      <th>M</th>\n",
       "    </tr>\n",
       "  </thead>\n",
       "  <tbody>\n",
       "    <tr>\n",
       "      <th>178751</th>\n",
       "      <td>4.709846e+08</td>\n",
       "      <td>0.57</td>\n",
       "      <td>3.01</td>\n",
       "      <td>2.70</td>\n",
       "      <td>1.807118</td>\n",
       "      <td>0.874875</td>\n",
       "      <td>-1.569790</td>\n",
       "      <td>1.741688</td>\n",
       "      <td>0.998802</td>\n",
       "      <td>-1.569790</td>\n",
       "      <td>0.358645</td>\n",
       "      <td>3.042429</td>\n",
       "      <td>2.70</td>\n",
       "      <td>0.643941</td>\n",
       "      <td>11.197991</td>\n",
       "    </tr>\n",
       "    <tr>\n",
       "      <th>178752</th>\n",
       "      <td>4.709846e+08</td>\n",
       "      <td>-0.28</td>\n",
       "      <td>3.16</td>\n",
       "      <td>2.61</td>\n",
       "      <td>1.802891</td>\n",
       "      <td>0.879314</td>\n",
       "      <td>-1.578866</td>\n",
       "      <td>1.737161</td>\n",
       "      <td>1.002935</td>\n",
       "      <td>-1.578866</td>\n",
       "      <td>-0.499748</td>\n",
       "      <td>3.132771</td>\n",
       "      <td>2.61</td>\n",
       "      <td>0.643941</td>\n",
       "      <td>11.197991</td>\n",
       "    </tr>\n",
       "    <tr>\n",
       "      <th>178753</th>\n",
       "      <td>4.709846e+08</td>\n",
       "      <td>0.09</td>\n",
       "      <td>2.79</td>\n",
       "      <td>3.09</td>\n",
       "      <td>1.798615</td>\n",
       "      <td>0.883729</td>\n",
       "      <td>-1.587900</td>\n",
       "      <td>1.732588</td>\n",
       "      <td>1.007041</td>\n",
       "      <td>-1.587900</td>\n",
       "      <td>-0.104840</td>\n",
       "      <td>2.789482</td>\n",
       "      <td>3.09</td>\n",
       "      <td>0.643941</td>\n",
       "      <td>11.197991</td>\n",
       "    </tr>\n",
       "    <tr>\n",
       "      <th>178754</th>\n",
       "      <td>4.709846e+08</td>\n",
       "      <td>0.36</td>\n",
       "      <td>3.16</td>\n",
       "      <td>2.67</td>\n",
       "      <td>1.794293</td>\n",
       "      <td>0.888122</td>\n",
       "      <td>-1.596893</td>\n",
       "      <td>1.727970</td>\n",
       "      <td>1.011122</td>\n",
       "      <td>-1.596893</td>\n",
       "      <td>0.138693</td>\n",
       "      <td>3.177415</td>\n",
       "      <td>2.67</td>\n",
       "      <td>0.684257</td>\n",
       "      <td>11.245260</td>\n",
       "    </tr>\n",
       "    <tr>\n",
       "      <th>178755</th>\n",
       "      <td>4.709847e+08</td>\n",
       "      <td>0.63</td>\n",
       "      <td>2.10</td>\n",
       "      <td>3.64</td>\n",
       "      <td>1.789924</td>\n",
       "      <td>0.892491</td>\n",
       "      <td>-1.605844</td>\n",
       "      <td>1.723307</td>\n",
       "      <td>1.015176</td>\n",
       "      <td>-1.605844</td>\n",
       "      <td>0.481977</td>\n",
       "      <td>2.138831</td>\n",
       "      <td>3.64</td>\n",
       "      <td>0.684257</td>\n",
       "      <td>11.245260</td>\n",
       "    </tr>\n",
       "    <tr>\n",
       "      <th>...</th>\n",
       "      <td>...</td>\n",
       "      <td>...</td>\n",
       "      <td>...</td>\n",
       "      <td>...</td>\n",
       "      <td>...</td>\n",
       "      <td>...</td>\n",
       "      <td>...</td>\n",
       "      <td>...</td>\n",
       "      <td>...</td>\n",
       "      <td>...</td>\n",
       "      <td>...</td>\n",
       "      <td>...</td>\n",
       "      <td>...</td>\n",
       "      <td>...</td>\n",
       "      <td>...</td>\n",
       "    </tr>\n",
       "    <tr>\n",
       "      <th>9033407</th>\n",
       "      <td>6.506190e+08</td>\n",
       "      <td>-0.98</td>\n",
       "      <td>1.38</td>\n",
       "      <td>-0.28</td>\n",
       "      <td>1.198281</td>\n",
       "      <td>0.692386</td>\n",
       "      <td>-1.745290</td>\n",
       "      <td>1.147064</td>\n",
       "      <td>0.774287</td>\n",
       "      <td>-1.745290</td>\n",
       "      <td>-1.073877</td>\n",
       "      <td>1.308277</td>\n",
       "      <td>-0.28</td>\n",
       "      <td>0.425924</td>\n",
       "      <td>10.721951</td>\n",
       "    </tr>\n",
       "    <tr>\n",
       "      <th>9033408</th>\n",
       "      <td>6.506191e+08</td>\n",
       "      <td>-0.94</td>\n",
       "      <td>1.38</td>\n",
       "      <td>-0.49</td>\n",
       "      <td>1.192468</td>\n",
       "      <td>0.701899</td>\n",
       "      <td>-1.747711</td>\n",
       "      <td>1.140602</td>\n",
       "      <td>0.783372</td>\n",
       "      <td>-1.747711</td>\n",
       "      <td>-1.033974</td>\n",
       "      <td>1.311067</td>\n",
       "      <td>-0.49</td>\n",
       "      <td>0.425924</td>\n",
       "      <td>10.721951</td>\n",
       "    </tr>\n",
       "    <tr>\n",
       "      <th>9033409</th>\n",
       "      <td>6.506191e+08</td>\n",
       "      <td>-0.55</td>\n",
       "      <td>1.73</td>\n",
       "      <td>-0.19</td>\n",
       "      <td>1.186609</td>\n",
       "      <td>0.711385</td>\n",
       "      <td>-1.750062</td>\n",
       "      <td>1.134095</td>\n",
       "      <td>0.792426</td>\n",
       "      <td>-1.750062</td>\n",
       "      <td>-0.669339</td>\n",
       "      <td>1.687420</td>\n",
       "      <td>-0.19</td>\n",
       "      <td>0.425924</td>\n",
       "      <td>10.721951</td>\n",
       "    </tr>\n",
       "    <tr>\n",
       "      <th>9033410</th>\n",
       "      <td>6.506191e+08</td>\n",
       "      <td>-0.73</td>\n",
       "      <td>1.50</td>\n",
       "      <td>-0.15</td>\n",
       "      <td>1.180703</td>\n",
       "      <td>0.720843</td>\n",
       "      <td>-1.752345</td>\n",
       "      <td>1.127543</td>\n",
       "      <td>0.801449</td>\n",
       "      <td>-1.752345</td>\n",
       "      <td>-0.832856</td>\n",
       "      <td>1.445424</td>\n",
       "      <td>-0.15</td>\n",
       "      <td>0.425924</td>\n",
       "      <td>10.721951</td>\n",
       "    </tr>\n",
       "    <tr>\n",
       "      <th>9033411</th>\n",
       "      <td>6.506191e+08</td>\n",
       "      <td>-0.71</td>\n",
       "      <td>1.74</td>\n",
       "      <td>-0.22</td>\n",
       "      <td>1.174751</td>\n",
       "      <td>0.730272</td>\n",
       "      <td>-1.754558</td>\n",
       "      <td>1.120948</td>\n",
       "      <td>0.810440</td>\n",
       "      <td>-1.754558</td>\n",
       "      <td>-0.829647</td>\n",
       "      <td>1.686234</td>\n",
       "      <td>-0.22</td>\n",
       "      <td>0.425924</td>\n",
       "      <td>10.721951</td>\n",
       "    </tr>\n",
       "  </tbody>\n",
       "</table>\n",
       "<p>1189368 rows × 15 columns</p>\n",
       "</div>"
      ],
      "text/plain": [
       "                 time    Bx    By    Bz         X         Y         Z  \\\n",
       "178751   4.709846e+08  0.57  3.01  2.70  1.807118  0.874875 -1.569790   \n",
       "178752   4.709846e+08 -0.28  3.16  2.61  1.802891  0.879314 -1.578866   \n",
       "178753   4.709846e+08  0.09  2.79  3.09  1.798615  0.883729 -1.587900   \n",
       "178754   4.709846e+08  0.36  3.16  2.67  1.794293  0.888122 -1.596893   \n",
       "178755   4.709847e+08  0.63  2.10  3.64  1.789924  0.892491 -1.605844   \n",
       "...               ...   ...   ...   ...       ...       ...       ...   \n",
       "9033407  6.506190e+08 -0.98  1.38 -0.28  1.198281  0.692386 -1.745290   \n",
       "9033408  6.506191e+08 -0.94  1.38 -0.49  1.192468  0.701899 -1.747711   \n",
       "9033409  6.506191e+08 -0.55  1.73 -0.19  1.186609  0.711385 -1.750062   \n",
       "9033410  6.506191e+08 -0.73  1.50 -0.15  1.180703  0.720843 -1.752345   \n",
       "9033411  6.506191e+08 -0.71  1.74 -0.22  1.174751  0.730272 -1.754558   \n",
       "\n",
       "           X_aber    Y_aber    Z_aber   Bx_aber   By_aber  Bz_aber     p_dyn  \\\n",
       "178751   1.741688  0.998802 -1.569790  0.358645  3.042429     2.70  0.643941   \n",
       "178752   1.737161  1.002935 -1.578866 -0.499748  3.132771     2.61  0.643941   \n",
       "178753   1.732588  1.007041 -1.587900 -0.104840  2.789482     3.09  0.643941   \n",
       "178754   1.727970  1.011122 -1.596893  0.138693  3.177415     2.67  0.684257   \n",
       "178755   1.723307  1.015176 -1.605844  0.481977  2.138831     3.64  0.684257   \n",
       "...           ...       ...       ...       ...       ...      ...       ...   \n",
       "9033407  1.147064  0.774287 -1.745290 -1.073877  1.308277    -0.28  0.425924   \n",
       "9033408  1.140602  0.783372 -1.747711 -1.033974  1.311067    -0.49  0.425924   \n",
       "9033409  1.134095  0.792426 -1.750062 -0.669339  1.687420    -0.19  0.425924   \n",
       "9033410  1.127543  0.801449 -1.752345 -0.832856  1.445424    -0.15  0.425924   \n",
       "9033411  1.120948  0.810440 -1.754558 -0.829647  1.686234    -0.22  0.425924   \n",
       "\n",
       "                 M  \n",
       "178751   11.197991  \n",
       "178752   11.197991  \n",
       "178753   11.197991  \n",
       "178754   11.245260  \n",
       "178755   11.245260  \n",
       "...            ...  \n",
       "9033407  10.721951  \n",
       "9033408  10.721951  \n",
       "9033409  10.721951  \n",
       "9033410  10.721951  \n",
       "9033411  10.721951  \n",
       "\n",
       "[1189368 rows x 15 columns]"
      ]
     },
     "execution_count": 3,
     "metadata": {},
     "output_type": "execute_result"
    }
   ],
   "source": [
    "bow_shock_pars = {\"x0\": 0.74, \"L\": 1.82, \"eps\": 1.01}\n",
    "df_weak"
   ]
  },
  {
   "cell_type": "code",
   "execution_count": 4,
   "id": "dfe809b0-1044-4e4b-ad59-5c90ca65ea96",
   "metadata": {
    "tags": []
   },
   "outputs": [],
   "source": [
    "df_orbits = pd.read_csv(\n",
    "    \"../maven_orbits.txt\", sep=\", \", header=2, engine=\"python\"\n",
    ")  # , names=[\"a\", \"b\", \"c\"])\n",
    "df_orbits = df_orbits[\n",
    "    (df_orbits[\"START_ET\"] >= df_weak.loc[df_weak.index[0], \"time\"] - 86400 * 2)\n",
    "    & (df_weak.loc[df_weak.index[-1], \"time\"] + 86400 >= df_orbits[\"START_ET\"])\n",
    "]\n",
    "df_orbits = df_orbits.drop(\n",
    "    columns=[\n",
    "        \"ORBIT_NUMBER\",\n",
    "        \"START_ET\",\n",
    "        \"FINISH_ET\",\n",
    "        \"START_UTC\",\n",
    "        \"FINISH_UTC\",\n",
    "        \"PERIAPSIS_UTC\",\n",
    "    ],\n",
    "    axis=1,\n",
    ")"
   ]
  },
  {
   "cell_type": "code",
   "execution_count": 5,
   "id": "264c9a3e-fe67-4b6e-a986-a0ef5c92bc93",
   "metadata": {
    "tags": []
   },
   "outputs": [],
   "source": [
    "smooth_factor = 15\n",
    "aberation = 4\n",
    "\n",
    "data_dict = dict(\n",
    "    frame=\"ss\",\n",
    "    sampl=\"1s\",\n",
    "    start=None,\n",
    "    end=None,\n",
    "    freq_sampl=20,\n",
    "    folder_path=\"../mag/pc1s/l2\",\n",
    "    kernel_path=\"../maven_spice/maven_time_frames.tm\",\n",
    "    orbits_file_path=\"../maven_orbits.txt\",\n",
    "    spice_pck=\"pck00010.tpc\",\n",
    ")"
   ]
  },
  {
   "cell_type": "code",
   "execution_count": 6,
   "id": "5d61b953-ac75-4a2f-9932-16b926f2809c",
   "metadata": {
    "tags": []
   },
   "outputs": [
    {
     "name": "stdout",
     "output_type": "stream",
     "text": [
      "('pck00010.tpc', 'TEXT', '', 0)\n",
      "\n",
      "Saved file: mag_mse_2014-12-04_2020-08-13_n20_weak_sw.csv, of all data.\n",
      "\n",
      "Saved file: mag_mse_2014-12-04_2020-08-13_ms_n20_weak_sw.csv, of data inside the bow shock.\n"
     ]
    }
   ],
   "source": [
    "df_weak = data_mse.rotated_to_mse(\n",
    "    data_dict=data_dict,\n",
    "    aberation=aberation,\n",
    "    smooth_factor=smooth_factor,\n",
    "    bow_shock_pars=bow_shock_pars,\n",
    "    save=[True, \"_weak_sw\"],\n",
    "    out=True,\n",
    "    df=df_weak,\n",
    "    df_orbits=df_orbits,\n",
    ")"
   ]
  },
  {
   "cell_type": "code",
   "execution_count": 33,
   "id": "2ab1c037-bf28-4c9f-ac96-0a95f516578c",
   "metadata": {
    "tags": []
   },
   "outputs": [
    {
     "data": {
      "text/plain": [
       "[<matplotlib.lines.Line2D at 0x7676d4aef6d0>]"
      ]
     },
     "execution_count": 33,
     "metadata": {},
     "output_type": "execute_result"
    },
    {
     "data": {
      "image/png": "[encoded data removed]",
      "text/plain": [
       "<Figure size 640x480 with 4 Axes>"
      ]
     },
     "metadata": {},
     "output_type": "display_data"
    }
   ],
   "source": [
    "fig, ax = plt.subplots(4, 1)\n",
    "# df_weak[0].R_mse.plot.line('.', markersize=0.4)\n",
    "ax[0].plot(df_weak[0].time, df_weak[0].R_mse)\n",
    "ax[1].plot(df_weak[0].time, df_weak[0].Z_mse)\n",
    "ax[2].plot(df_weak[0].time, df_weak[0].clock_angle)\n",
    "ax[3].plot(df_weak[0].time, df_weak[0][\"loc\"], \".\")"
   ]
  },
  {
   "cell_type": "code",
   "execution_count": 24,
   "id": "445aef5d-2e9c-4c7f-8124-260277d1f0b8",
   "metadata": {
    "tags": []
   },
   "outputs": [
    {
     "data": {
      "text/plain": [
       "178751     4.709846e+08\n",
       "178752     4.709846e+08\n",
       "178753     4.709846e+08\n",
       "178754     4.709846e+08\n",
       "178755     4.709847e+08\n",
       "               ...     \n",
       "9033407    6.506190e+08\n",
       "9033408    6.506191e+08\n",
       "9033409    6.506191e+08\n",
       "9033410    6.506191e+08\n",
       "9033411    6.506191e+08\n",
       "Name: time, Length: 1189368, dtype: float64"
      ]
     },
     "execution_count": 24,
     "metadata": {},
     "output_type": "execute_result"
    }
   ],
   "source": [
    "df_weak[0][\"time\"]"
   ]
  },
  {
   "cell_type": "code",
   "execution_count": 14,
   "id": "9479ac2c-4e01-4fb6-a2be-17d54cc02af1",
   "metadata": {
    "tags": []
   },
   "outputs": [],
   "source": [
    "import matplotlib\n",
    "from matplotlib import pyplot as plt"
   ]
  },
  {
   "cell_type": "code",
   "execution_count": 31,
   "id": "0452f8ad-8fd6-4603-abd5-65941781fe65",
   "metadata": {
    "tags": []
   },
   "outputs": [
    {
     "data": {
      "text/plain": [
       "Index(['time', 'Bx', 'By', 'Bz', 'X', 'Y', 'Z', 'X_aber', 'Y_aber', 'Z_aber',\n",
       "       'Bx_aber', 'By_aber', 'Bz_aber', 'p_dyn', 'M', 'R', 'r_sp_cyl',\n",
       "       'th_sp_cyl', 'r_bs', 'loc', 'clock_angle', 'Bx_mse', 'By_mse', 'Bz_mse',\n",
       "       'X_mse', 'Y_mse', 'Z_mse', 'R_mse', 'th_mse', 'phi_mse'],\n",
       "      dtype='object')"
      ]
     },
     "execution_count": 31,
     "metadata": {},
     "output_type": "execute_result"
    }
   ],
   "source": [
    "df_weak[0].columns"
   ]
  },
  {
   "cell_type": "code",
   "execution_count": null,
   "id": "86d546ce-b015-4651-8556-a8c1769ca4a3",
   "metadata": {},
   "outputs": [],
   "source": []
  }
 ],
 "metadata": {
  "kernelspec": {
   "display_name": "Python 3 (ipykernel)",
   "language": "python",
   "name": "python3"
  },
  "language_info": {
   "codemirror_mode": {
    "name": "ipython",
    "version": 3
   },
   "file_extension": ".py",
   "mimetype": "text/x-python",
   "name": "python",
   "nbconvert_exporter": "python",
   "pygments_lexer": "ipython3",
   "version": "3.11.5"
  }
 },
 "nbformat": 4,
 "nbformat_minor": 5
}
