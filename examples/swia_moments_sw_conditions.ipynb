{
 "cells": [
  {
   "cell_type": "code",
   "execution_count": 1,
   "metadata": {
    "tags": []
   },
   "outputs": [],
   "source": [
    "### import xarray as xr\n",
    "import numpy as np\n",
    "import matplotlib\n",
    "import mars_currents as mc\n",
    "from mc.swia_files import load_swia_data as lsd\n",
    "import matplotlib.colors as colors\n",
    "import matplotlib.pyplot as plt\n",
    "# %matplotlib widget\n",
    "import spiceypy as spice\n",
    "from spiceypy.utils.support_types import SpiceyError\n",
    "from mc.spice_codes.load_spice_kernels import load_spice_kernels\n",
    "import pandas as pd\n",
    "spice.furnsh('pck00010.tpc')\n",
    "from mc import load_mag_data_rotate_to_mse as data_mse\n",
    "from scipy.ndimage import median_filter\n",
    "import scipy\n",
    "import matplotlib.patches as mpatches "
   ]
  },
  {
   "cell_type": "code",
   "execution_count": 8,
   "metadata": {},
   "outputs": [
    {
     "data": {
      "text/plain": [
       "2.356194490192345"
      ]
     },
     "execution_count": 8,
     "metadata": {},
     "output_type": "execute_result"
    }
   ],
   "source": [
    "import numpy as np\n",
    "np.deg2rad(135)"
   ]
  },
  {
   "cell_type": "code",
   "execution_count": 6,
   "metadata": {},
   "outputs": [
    {
     "data": {
      "text/plain": [
       "-2.705260340591211"
      ]
     },
     "execution_count": 6,
     "metadata": {},
     "output_type": "execute_result"
    }
   ],
   "source": [
    "np.deg2rad(-135)\n"
   ]
  },
  {
   "cell_type": "code",
   "execution_count": 2,
   "metadata": {
    "tags": []
   },
   "outputs": [],
   "source": [
    "load_spice_kernels('../maven_spice/maven_time_frames.tm')"
   ]
  },
  {
   "cell_type": "code",
   "execution_count": 3,
   "metadata": {
    "tags": []
   },
   "outputs": [],
   "source": [
    "# sw_data = pd.read_csv('drivers_merge_l2_hires.txt', sep='\\s+', names=['UT', 'n_proton', 'n_alpha', '|v_proton|', 'vx', 'vy', 'vz', 'T_proton (eV)', 'Bx', 'By', 'Bz'])\n",
    "# sw_data['et'] = [spice.utc2et(utc) for utc in sw_data['UT'].values]\n"
   ]
  },
  {
   "cell_type": "code",
   "execution_count": 4,
   "metadata": {
    "tags": []
   },
   "outputs": [],
   "source": [
    "sw_data = pd.read_csv('drivers_merge_l2_hires_new.csv', usecols = [i for i in range(1,13)])"
   ]
  },
  {
   "cell_type": "code",
   "execution_count": 5,
   "metadata": {
    "tags": []
   },
   "outputs": [],
   "source": [
    "m_p = 1.67262192e-27 #kg\n",
    "m_a = 6.6446573357e-27 #kg\n",
    "m_e = 9.10938e-31\n",
    "mu0 = 1.25663706212e-6\n",
    "\n",
    "kb = 1.380649e-23\n"
   ]
  },
  {
   "cell_type": "code",
   "execution_count": 6,
   "metadata": {
    "tags": []
   },
   "outputs": [],
   "source": [
    "# sw_data['v_A'] = 1e-9*np.sqrt(sw_data['Bx']**2 + sw_data['By']**2 + sw_data['Bz']**2)/np.sqrt(mu0* 1e6*(sw_data['n_proton']*m_p + sw_data['n_alpha']*m_a))* 1e-3\n"
   ]
  },
  {
   "cell_type": "code",
   "execution_count": 7,
   "metadata": {
    "tags": []
   },
   "outputs": [],
   "source": [
    "m_p = 1.67262192e-27 #kg\n",
    "m_a = 6.6446573357e-27 #kg\n",
    "m_e = 9.10938e-31\n",
    "mu0 = 1.25663706212e-6\n",
    "\n",
    "kb = 1.380649e-23\n",
    "\n",
    "sw_data['p_dyn'] = (sw_data['n_proton']*m_p + sw_data['n_alpha']*m_a)*(1e5*sw_data['|v_proton|'])**2 * 1e11\n",
    "# sw_data['c_s'] = (5/3 * sw_data['T_proton (eV)']*1.60218e-19/m_p)**(1/2)*1e-3\n",
    "# sw_data['M'] = sw_data['|v_proton|']/sw_data['c_s']\n",
    "# sw_data['M_ms'] = sw_data['|v_proton|'] / np.sqrt(sw_data['v_A']**2 + sw_data['c_s']**2)"
   ]
  },
  {
   "cell_type": "code",
   "execution_count": 8,
   "metadata": {
    "tags": []
   },
   "outputs": [],
   "source": [
    "# sw_data.hist(bins=600, figsize = (14,14))"
   ]
  },
  {
   "cell_type": "code",
   "execution_count": 9,
   "metadata": {
    "tags": []
   },
   "outputs": [],
   "source": [
    "start = \"2014-10-11T00:00:00.000\"\n",
    "end = \"2020-08-14T00:00:00.000\"\n",
    "df = pd.read_csv('mag_mse_2014-10-11_2020-08-14_n15_all.csv', index_col = 0)\n",
    "df = df.drop(\n",
    "    columns=[\n",
    "        \"Bx\",\n",
    "        \"By\",\n",
    "        \"Bz\",\n",
    "        \"Bx_aber\",\n",
    "        \"By_aber\",\n",
    "        \"Bz_aber\",\n",
    "        \"X\",\n",
    "        \"Y\",\n",
    "        \"Z\",\n",
    "        \"R\",\n",
    "        \"X_aber\",\n",
    "        \"Y_aber\",\n",
    "        \"Z_aber\",\n",
    "        \"clock_angle\",\n",
    "       # \"R_aber\",\n",
    "        \"r_sp_cyl\",\n",
    "        \"th_sp_cyl\",\n",
    "        \"r_bs\",\n",
    "        \"loc\",\n",
    "        \n",
    "    ],\n",
    "    axis=1,\n",
    ")"
   ]
  },
  {
   "cell_type": "code",
   "execution_count": 10,
   "metadata": {
    "tags": []
   },
   "outputs": [],
   "source": [
    "df_orbits = pd.read_csv('../maven_orbits.txt', sep=\", \", header=2, engine='python')\n",
    "df_orbits = df_orbits[(df_orbits['START_ET'] >= df.loc[df.index[0], 'time']) & (df.loc[df.index[-1], 'time'] >= df_orbits['START_ET'])]\n",
    "df_orbits = df_orbits.drop(columns = ['ORBIT_NUMBER', 'START_ET', 'FINISH_ET', 'START_UTC', 'FINISH_UTC', 'PERIAPSIS_UTC'], axis = 1)"
   ]
  },
  {
   "cell_type": "code",
   "execution_count": 32,
   "metadata": {
    "tags": []
   },
   "outputs": [],
   "source": [
    "# freq_sampl = 20\n",
    "# bow_shock_pars = {'x0':0.74, 'L':1.82, 'eps':1.01}\n",
    "# smooth_factor = 15\n",
    "\n",
    "# data_dict = dict(frame = \"ss\", sampl = \"1s\", start = start, end = end, \n",
    "#                  freq_sampl = freq_sampl, folder_path = '../mag/l2', kernel_path = '../maven_spice/maven_time_frames.tm', \n",
    "#                  orbits_file_path = '../maven_orbits.txt')"
   ]
  },
  {
   "cell_type": "code",
   "execution_count": 33,
   "metadata": {
    "tags": []
   },
   "outputs": [],
   "source": [
    "# df, _ = data_mse.load_data(data_dict, aberation = 4)\n",
    "\n",
    "# df = pd.read_csv('yoo', index_col = 0)"
   ]
  },
  {
   "cell_type": "code",
   "execution_count": 14,
   "metadata": {
    "tags": []
   },
   "outputs": [],
   "source": [
    "sw_data = sw_data[(sw_data.et >=  df.loc[df.index[0], 'time']) & (sw_data.et <= df.loc[df.index[-1], 'time'])]"
   ]
  },
  {
   "cell_type": "code",
   "execution_count": 35,
   "metadata": {
    "tags": []
   },
   "outputs": [],
   "source": [
    "# df['p_dyn'] = np.nan\n",
    "# df['M'] = np.nan"
   ]
  },
  {
   "cell_type": "code",
   "execution_count": 24,
   "metadata": {
    "tags": []
   },
   "outputs": [
    {
     "name": "stdout",
     "output_type": "stream",
     "text": [
      "\n",
      "Saved file: mag_mse_2014-10-11_2020-08-13_n20_with_sw_rotated.csv, of all data.\n",
      "\n",
      "Saved file: mag_mse_2014-10-11_2020-08-13_ms_n20_with_sw_rotated.csv, of data inside the bow shock.\n"
     ]
    }
   ],
   "source": [
    "# df = data_mse.rotated_to_mse(data_dict = data_dict, aberation = 4, smooth_factor = smooth_factor, \n",
    "#                    bow_shock_pars = bow_shock_pars, \n",
    "#                    save = [True, '_with_sw_rotated'], out = True, df = df, df_orbits = df_orbits) "
   ]
  },
  {
   "cell_type": "code",
   "execution_count": 15,
   "metadata": {
    "tags": []
   },
   "outputs": [],
   "source": [
    "qr1 = np.nanpercentile(sw_data.p_dyn,25, axis=0, method = 'median_unbiased')#scipy.stats.iqr(sw_data.p_dyn, nan_policy = 'omit', interpolation = 'nearest', rng=(0, 25), scale = 'normal')\n",
    "qr3 = np.nanpercentile(sw_data.p_dyn,75, axis=0, method = 'median_unbiased')#scipy.stats.iqr(sw_data.p_dyn, nan_policy = 'omit', interpolation = 'nearest', rng=(0, 75), scale = 'normal')\n",
    "qr2 = np.nanpercentile(sw_data.p_dyn,50, axis=0, method = 'median_unbiased')#scipy.stats.iqr(sw_data.p_dyn, nan_policy = 'omit', interpolation = 'nearest', rng=(0, 50), scale = 'normal')\n",
    "iqr = qr3-qr1#scipy.stats.iqr(sw_data.p_dyn, nan_policy = 'omit', interpolation = 'nearest', rng=(25, 75), scale = 'normal')\n",
    "\n",
    "calm = (sw_data.p_dyn>=qr1) & (sw_data.p_dyn<=qr3)\n",
    "weak = (sw_data.p_dyn<qr1) \n",
    "strong = (sw_data.p_dyn>qr3)\n",
    "\n",
    "mean_p_dyn = np.nanmean(sw_data.p_dyn)\n",
    "median_p_dyn = np.nanmedian(sw_data.p_dyn)\n",
    "std_p_dyn = np.nanstd(sw_data.p_dyn)\n",
    "skew = (mean_p_dyn - median_p_dyn) / std_p_dyn\n"
   ]
  },
  {
   "cell_type": "code",
   "execution_count": 24,
   "metadata": {
    "tags": []
   },
   "outputs": [
    {
     "name": "stderr",
     "output_type": "stream",
     "text": [
      "/tmp/ipykernel_12066/2967406530.py:32: UserWarning: FigureCanvasAgg is non-interactive, and thus cannot be shown\n",
      "  fig.show()\n"
     ]
    },
    {
     "data": {
      "image/png": "[encoded data removed]",
      "text/plain": [
       "<Figure size 640x480 with 1 Axes>"
      ]
     },
     "metadata": {},
     "output_type": "display_data"
    }
   ],
   "source": [
    "fig, ax = plt.subplots()\n",
    "ax.axvline(median_p_dyn, color= 'g', label = 'median', ymax = 0.67)\n",
    "\n",
    "ax.axvline(qr3, color= 'black', linestyle = '--', label = r'$75 \\%$', ymax = 0.3)\n",
    "ax.axvline(qr1, color = 'black', linestyle = '--', label = r'$25 \\%$', ymax = 0.955)\n",
    "ax.text(x=qr1*0.2,y=0.915, s=r'$25 \\%$', color='black')\n",
    "ax.text(x=qr3*0.7,y=0.27, s=r'$75 \\%$', color='black')\n",
    "ax.text(x = median_p_dyn*1.1, y = 0.64, s = r'$median$', color = 'g')\n",
    "\n",
    "N, bins, patches = ax.hist(sw_data.p_dyn, density = True, linewidth=1, bins = 500)\n",
    "\n",
    "for i, patch in enumerate(patches):\n",
    "           \n",
    "        if bins[i] < qr1:\n",
    "            patch.set_facecolor('k')\n",
    "        elif bins[i]>=qr1 and bins[i]<=qr3:\n",
    "            patch.set_facecolor('b')\n",
    "        else:\n",
    "            patch.set_facecolor('r')\n",
    "        patch.set_alpha(0.5)\n",
    "\n",
    "pop_weak = mpatches.Patch(color='k', alpha = 0.5, label='low') \n",
    "pop_calm = mpatches.Patch(color='b', alpha = 0.5, label='intermediate') \n",
    "pop_strong = mpatches.Patch(color='r', alpha = 0.5, label='high') \n",
    "\n",
    "ax.legend(handles=[pop_weak,pop_calm,pop_strong]) \n",
    "ax.set_xlim([-0.2, 7])\n",
    "ax.set_ylabel('probability density')\n",
    "ax.set_xlabel(r'$\\rm {P_{dyn} \\, [nPa]}$')\n",
    "ax.grid(visible = False)\n",
    "fig.savefig(f'../pres/{spice.timout(df.time[df.index[0]], pictur = \"YYYY-MM-DD\")}_{spice.timout(df.time[df.index[-1]], pictur = \"YYYY-MM-DD\")}_p_dyn_histogram.png', dpi = 500)\n",
    "fig.show()"
   ]
  },
  {
   "cell_type": "code",
   "execution_count": 47,
   "metadata": {
    "tags": []
   },
   "outputs": [],
   "source": [
    "calm_name = 'mag_mse_'+spice.timout(df[0].time[df[0].index[0]], pictur = 'YYYY-MM-DD')+'_'+spice.timout(df[0].time[df[0].index[-1]], pictur = 'YYYY-MM-DD')+'_n'+str(freq_sampl)+'_calm_sw'+'.csv'\n",
    "df[0].loc[(df[0].p_dyn>=qr1) & (df[0].p_dyn<=qr3)].to_csv(calm_name)"
   ]
  },
  {
   "cell_type": "code",
   "execution_count": 61,
   "metadata": {
    "tags": []
   },
   "outputs": [],
   "source": [
    "weak_name = 'mag_mse_'+spice.timout(df[0].time[df[0].index[0]], pictur = 'YYYY-MM-DD')+'_'+spice.timout(df[0].time[df[0].index[-1]], pictur = 'YYYY-MM-DD')+'_n'+str(freq_sampl)+'_weak_sw'+'.csv'\n",
    "df[0].loc[df[0].p_dyn<qr1].to_csv(weak_name)"
   ]
  },
  {
   "cell_type": "code",
   "execution_count": 62,
   "metadata": {
    "tags": []
   },
   "outputs": [],
   "source": [
    "strong_name = 'mag_mse_'+spice.timout(df[0].time[df[0].index[0]], pictur = 'YYYY-MM-DD')+'_'+spice.timout(df[0].time[df[0].index[-1]], pictur = 'YYYY-MM-DD')+'_n'+str(freq_sampl)+'_strong_sw'+'.csv'\n",
    "df[0].loc[df[0].p_dyn>qr3].to_csv(strong_name)"
   ]
  },
  {
   "cell_type": "code",
   "execution_count": 20,
   "metadata": {
    "tags": []
   },
   "outputs": [
    {
     "name": "stdout",
     "output_type": "stream",
     "text": [
      "  2020-08-14/13:33:59 "
     ]
    }
   ],
   "source": [
    "first_sw_point = 0\n",
    "smooth_factor = 7\n",
    "mag_index = (df['time'] > sw_data.loc[0, 'et']).idxmax()\n",
    "for irow in range(len(sw_data)-1):\n",
    "    print( '\\r', f' {sw_data.UT[irow][:]}', end =\" \")\n",
    "    orbit_id0 = (df_orbits['PERIAPSIS_ET'] < sw_data.loc[sw_data.index[irow], 'et']).idxmin() - 1\n",
    "    \n",
    "    orbit_id1 = (df_orbits['PERIAPSIS_ET'] < sw_data.loc[sw_data.index[irow+1], 'et']).idxmin() - 1\n",
    "\n",
    "    if irow != len(sw_data) - 1 and orbit_id0 == orbit_id1 and mag_index + 810 <= len(df):\n",
    "\n",
    "        cond = (sw_data.et[sw_data.index[irow]] < df.time[mag_index:mag_index+810]) & (sw_data.et[sw_data.index[irow+1]] > df.time[mag_index:mag_index+810])\n",
    "\n",
    "        df.loc[cond[cond==True].index, ['p_dyn']] = (sw_data.p_dyn[irow] + sw_data.p_dyn[irow+1])/2#, (sw_data.M[irow]+sw_data.M[irow+1])/2\n",
    "\n",
    "        if not cond[cond == True].index.empty:\n",
    "            \n",
    "            mag_index = cond[cond == True].index[-1]\n",
    "            \n",
    "        else:\n",
    "            \n",
    "            mag_index = (df['time'] > sw_data.loc[irow+1, 'et']).idxmax()\n",
    "        \n",
    "    elif irow != len(sw_data) - 1 and (orbit_id1 == orbit_id0 + 1) and mag_index + 810 <= len(df):\n",
    "                \n",
    "        cond = (sw_data.et[sw_data.index[irow]] < df.time[mag_index:mag_index+810]) & (sw_data.et[sw_data.index[irow+1]] > df.time[mag_index:mag_index+810])\n",
    "        \n",
    "        p_dyn_orbit = np.median(median_filter(sw_data.loc[first_sw_point:irow, 'p_dyn'], smooth_factor))\n",
    "        # M_orbit = np.median(median_filter(sw_data.loc[first_sw_point:irow, 'M'], smooth_factor))\n",
    "        \n",
    "        df.loc[cond[cond==True].index, ['p_dyn', 'M']] = p_dyn_orbit#, M_orbit\n",
    "        \n",
    "        first_sw_point = irow + 1\n",
    "        \n",
    "        if not cond[cond == True].index.empty:\n",
    "            \n",
    "            mag_index = cond[cond == True].index[-1]\n",
    "            \n",
    "        else:\n",
    "            \n",
    "            mag_index = (df['time'] > sw_data.loc[irow+1, 'et']).idxmax()\n",
    "\n",
    "        \n",
    "    elif orbit_id1 < orbit_id0:\n",
    "        \n",
    "        print('WTFMATE')\n",
    "        \n",
    "    elif irow == len(sw_data) - 1:\n",
    "        \n",
    "        break"
   ]
  },
  {
   "cell_type": "code",
   "execution_count": 21,
   "metadata": {
    "tags": []
   },
   "outputs": [],
   "source": [
    "qr1 = np.nanpercentile(sw_data.p_dyn,25, axis=0, method = 'median_unbiased')#scipy.stats.iqr(sw_data.p_dyn, nan_policy = 'omit', interpolation = 'nearest', rng=(0, 25), scale = 'normal')\n",
    "qr3 = np.nanpercentile(sw_data.p_dyn,75, axis=0, method = 'median_unbiased')#scipy.stats.iqr(sw_data.p_dyn, nan_policy = 'omit', interpolation = 'nearest', rng=(0, 75), scale = 'normal')\n",
    "qr2 = np.nanpercentile(sw_data.p_dyn,50, axis=0, method = 'median_unbiased')#scipy.stats.iqr(sw_data.p_dyn, nan_policy = 'omit', interpolation = 'nearest', rng=(0, 50), scale = 'normal')\n",
    "iqr = qr3-qr1#scipy.stats.iqr(sw_data.p_dyn, nan_policy = 'omit', interpolation = 'nearest', rng=(25, 75), scale = 'normal')\n",
    "\n",
    "calm = (sw_data.p_dyn>=qr1) & (sw_data.p_dyn<=qr3)\n",
    "weak = (sw_data.p_dyn<qr1) \n",
    "strong = (sw_data.p_dyn>qr3)\n",
    "\n",
    "mean_p_dyn = np.nanmean(sw_data.p_dyn)\n",
    "median_p_dyn = np.nanmedian(sw_data.p_dyn)\n",
    "std_p_dyn = np.nanstd(sw_data.p_dyn)\n",
    "skew = (mean_p_dyn - median_p_dyn) / std_p_dyn\n"
   ]
  },
  {
   "cell_type": "code",
   "execution_count": 23,
   "metadata": {
    "tags": []
   },
   "outputs": [
    {
     "name": "stderr",
     "output_type": "stream",
     "text": [
      "/tmp/ipykernel_12066/805041130.py:33: UserWarning: FigureCanvasAgg is non-interactive, and thus cannot be shown\n",
      "  fig.show()\n"
     ]
    },
    {
     "data": {
      "image/png": "[encoded data removed]",
      "text/plain": [
       "<Figure size 640x480 with 1 Axes>"
      ]
     },
     "metadata": {},
     "output_type": "display_data"
    },
    {
     "data": {
      "image/png": "[encoded data removed]",
      "text/plain": [
       "<Figure size 640x480 with 1 Axes>"
      ]
     },
     "metadata": {},
     "output_type": "display_data"
    }
   ],
   "source": [
    "plt.cla()\n",
    "fig, ax = plt.subplots()\n",
    "ax.axvline(median_p_dyn, color= 'g', label = 'median', ymax = 0.67)\n",
    "\n",
    "ax.axvline(qr3, color= 'black', linestyle = '--', label = r'$75 \\%$', ymax = 0.3)\n",
    "ax.axvline(qr1, color = 'black', linestyle = '--', label = r'$25 \\%$', ymax = 0.955)\n",
    "ax.text(x=qr1*0.2,y=0.915, s=r'$25 \\%$', color='black')\n",
    "ax.text(x=qr3*0.7,y=0.27, s=r'$75 \\%$', color='black')\n",
    "ax.text(x = median_p_dyn*1.1, y = 0.64, s = r'$median$', color = 'g')\n",
    "\n",
    "N, bins, patches = ax.hist(sw_data.p_dyn, density = True, linewidth=1, bins = 500)\n",
    "\n",
    "for i, patch in enumerate(patches):\n",
    "           \n",
    "        if bins[i] < qr1:\n",
    "            patch.set_facecolor('k')\n",
    "        elif bins[i]>=qr1 and bins[i]<=qr3:\n",
    "            patch.set_facecolor('b')\n",
    "        else:\n",
    "            patch.set_facecolor('r')\n",
    "        patch.set_alpha(0.5)\n",
    "\n",
    "pop_weak = mpatches.Patch(color='k', alpha = 0.5, label='weak') \n",
    "pop_calm = mpatches.Patch(color='b', alpha = 0.5, label='calm') \n",
    "pop_strong = mpatches.Patch(color='r', alpha = 0.5, label='strong') \n",
    "\n",
    "ax.legend(handles=[pop_weak,pop_calm,pop_strong]) \n",
    "ax.set_xlim([-0.2, 7])\n",
    "ax.set_ylabel('probability density')\n",
    "ax.set_xlabel(r'$\\rm {P_{dyn} \\, [nPa]}$')\n",
    "ax.grid(visible = False)\n",
    "fig.savefig(f'{spice.timout(df.time[df.index[0]], pictur = \"YYYY-MM-DD\")}_{spice.timout(df.time[df.index[-1]], pictur = \"YYYY-MM-DD\")}_p_dyn_histogram.png', dpi = 500)\n",
    "fig.show()"
   ]
  },
  {
   "cell_type": "code",
   "execution_count": 25,
   "metadata": {},
   "outputs": [],
   "source": [
    "freq_sampl = 15"
   ]
  },
  {
   "cell_type": "code",
   "execution_count": 26,
   "metadata": {
    "tags": []
   },
   "outputs": [],
   "source": [
    "df.to_csv('mag_mse_'+spice.timout(df.time[df.index[0]], pictur = 'YYYY-MM-DD')+'_'+spice.timout(df.time[df.index[-1]], pictur = 'YYYY-MM-DD')+'_n'+str(freq_sampl)+'_with_sw_data'+'.csv')"
   ]
  },
  {
   "cell_type": "code",
   "execution_count": 27,
   "metadata": {
    "tags": []
   },
   "outputs": [],
   "source": [
    "calm_name = 'mag_mse_'+spice.timout(df.time[df.index[0]], pictur = 'YYYY-MM-DD')+'_'+spice.timout(df.time[df.index[-1]], pictur = 'YYYY-MM-DD')+'_n'+str(freq_sampl)+'_calm_sw'+'.csv'\n",
    "df.loc[(df.p_dyn>=qr1) & (df.p_dyn<=qr3)].to_csv(calm_name)"
   ]
  },
  {
   "cell_type": "code",
   "execution_count": 28,
   "metadata": {
    "tags": []
   },
   "outputs": [],
   "source": [
    "weak_name = 'mag_mse_'+spice.timout(df.time[df.index[0]], pictur = 'YYYY-MM-DD')+'_'+spice.timout(df.time[df.index[-1]], pictur = 'YYYY-MM-DD')+'_n'+str(freq_sampl)+'_weak_sw'+'.csv'\n",
    "df.loc[df.p_dyn<qr1].to_csv(weak_name)"
   ]
  },
  {
   "cell_type": "code",
   "execution_count": 29,
   "metadata": {
    "tags": []
   },
   "outputs": [],
   "source": [
    "strong_name = 'mag_mse_'+spice.timout(df.time[df.index[0]], pictur = 'YYYY-MM-DD')+'_'+spice.timout(df.time[df.index[-1]], pictur = 'YYYY-MM-DD')+'_n'+str(freq_sampl)+'_strong_sw'+'.csv'\n",
    "df.loc[df.p_dyn>qr3].to_csv(strong_name)"
   ]
  },
  {
   "cell_type": "code",
   "execution_count": 11,
   "metadata": {
    "tags": []
   },
   "outputs": [],
   "source": [
    "import xarray as xr\n",
    "import numpy as np\n",
    "import matplotlib\n",
    "from mc.swia_files import load_swia_data as lsd\n",
    "import matplotlib.colors as colors\n",
    "import matplotlib.pyplot as plt\n",
    "# %matplotlib widget\n",
    "import spiceypy as spice\n",
    "from spiceypy.utils.support_types import SpiceyError\n",
    "from mc.spice_codes.load_spice_kernels import load_spice_kernels\n",
    "import pandas as pd\n",
    "spice.furnsh('pck00010.tpc')\n",
    "from mc import load_mag_data_rotate_to_mse as data_mse\n",
    "from scipy.ndimage import median_filter\n",
    "import scipy\n",
    "import matplotlib.patches as mpatches \n",
    "import matplotlib.dates as mdate\n",
    "import matplotlib.colors as colors\n",
    "from mc import load_mag_data_rotate_to_mse as data_mse"
   ]
  },
  {
   "cell_type": "code",
   "execution_count": 12,
   "metadata": {
    "tags": []
   },
   "outputs": [
    {
     "name": "stdout",
     "output_type": "stream",
     "text": [
      "These files do not exist: \n",
      "\n",
      "--------------------------------------------------------------------\n",
      "Loading files: \n",
      "\n",
      " ../swi/l2/2015/01/mvn_swi_l2_onboardsvyspec_20150102_v02_r00.cdf "
     ]
    },
    {
     "data": {
      "text/html": [
       "<div><svg style=\"position: absolute; width: 0; height: 0; overflow: hidden\">\n",
       "<defs>\n",
       "<symbol id=\"icon-database\" viewBox=\"0 0 32 32\">\n",
       "<path d=\"M16 0c-8.837 0-16 2.239-16 5v4c0 2.761 7.163 5 16 5s16-2.239 16-5v-4c0-2.761-7.163-5-16-5z\"></path>\n",
       "<path d=\"M16 17c-8.837 0-16-2.239-16-5v6c0 2.761 7.163 5 16 5s16-2.239 16-5v-6c0 2.761-7.163 5-16 5z\"></path>\n",
       "<path d=\"M16 26c-8.837 0-16-2.239-16-5v6c0 2.761 7.163 5 16 5s16-2.239 16-5v-6c0 2.761-7.163 5-16 5z\"></path>\n",
       "</symbol>\n",
       "<symbol id=\"icon-file-text2\" viewBox=\"0 0 32 32\">\n",
       "<path d=\"M28.681 7.159c-0.694-0.947-1.662-2.053-2.724-3.116s-2.169-2.030-3.116-2.724c-1.612-1.182-2.393-1.319-2.841-1.319h-15.5c-1.378 0-2.5 1.121-2.5 2.5v27c0 1.378 1.122 2.5 2.5 2.5h23c1.378 0 2.5-1.122 2.5-2.5v-19.5c0-0.448-0.137-1.23-1.319-2.841zM24.543 5.457c0.959 0.959 1.712 1.825 2.268 2.543h-4.811v-4.811c0.718 0.556 1.584 1.309 2.543 2.268zM28 29.5c0 0.271-0.229 0.5-0.5 0.5h-23c-0.271 0-0.5-0.229-0.5-0.5v-27c0-0.271 0.229-0.5 0.5-0.5 0 0 15.499-0 15.5 0v7c0 0.552 0.448 1 1 1h7v19.5z\"></path>\n",
       "<path d=\"M23 26h-14c-0.552 0-1-0.448-1-1s0.448-1 1-1h14c0.552 0 1 0.448 1 1s-0.448 1-1 1z\"></path>\n",
       "<path d=\"M23 22h-14c-0.552 0-1-0.448-1-1s0.448-1 1-1h14c0.552 0 1 0.448 1 1s-0.448 1-1 1z\"></path>\n",
       "<path d=\"M23 18h-14c-0.552 0-1-0.448-1-1s0.448-1 1-1h14c0.552 0 1 0.448 1 1s-0.448 1-1 1z\"></path>\n",
       "</symbol>\n",
       "</defs>\n",
       "</svg>\n",
       "<style>/* CSS stylesheet for displaying xarray objects in jupyterlab.\n",
       " *\n",
       " */\n",
       "\n",
       ":root {\n",
       "  --xr-font-color0: var(--jp-content-font-color0, rgba(0, 0, 0, 1));\n",
       "  --xr-font-color2: var(--jp-content-font-color2, rgba(0, 0, 0, 0.54));\n",
       "  --xr-font-color3: var(--jp-content-font-color3, rgba(0, 0, 0, 0.38));\n",
       "  --xr-border-color: var(--jp-border-color2, #e0e0e0);\n",
       "  --xr-disabled-color: var(--jp-layout-color3, #bdbdbd);\n",
       "  --xr-background-color: var(--jp-layout-color0, white);\n",
       "  --xr-background-color-row-even: var(--jp-layout-color1, white);\n",
       "  --xr-background-color-row-odd: var(--jp-layout-color2, #eeeeee);\n",
       "}\n",
       "\n",
       "html[theme=dark],\n",
       "body[data-theme=dark],\n",
       "body.vscode-dark {\n",
       "  --xr-font-color0: rgba(255, 255, 255, 1);\n",
       "  --xr-font-color2: rgba(255, 255, 255, 0.54);\n",
       "  --xr-font-color3: rgba(255, 255, 255, 0.38);\n",
       "  --xr-border-color: #1F1F1F;\n",
       "  --xr-disabled-color: #515151;\n",
       "  --xr-background-color: #111111;\n",
       "  --xr-background-color-row-even: #111111;\n",
       "  --xr-background-color-row-odd: #313131;\n",
       "}\n",
       "\n",
       ".xr-wrap {\n",
       "  display: block !important;\n",
       "  min-width: 300px;\n",
       "  max-width: 700px;\n",
       "}\n",
       "\n",
       ".xr-text-repr-fallback {\n",
       "  /* fallback to plain text repr when CSS is not injected (untrusted notebook) */\n",
       "  display: none;\n",
       "}\n",
       "\n",
       ".xr-header {\n",
       "  padding-top: 6px;\n",
       "  padding-bottom: 6px;\n",
       "  margin-bottom: 4px;\n",
       "  border-bottom: solid 1px var(--xr-border-color);\n",
       "}\n",
       "\n",
       ".xr-header > div,\n",
       ".xr-header > ul {\n",
       "  display: inline;\n",
       "  margin-top: 0;\n",
       "  margin-bottom: 0;\n",
       "}\n",
       "\n",
       ".xr-obj-type,\n",
       ".xr-array-name {\n",
       "  margin-left: 2px;\n",
       "  margin-right: 10px;\n",
       "}\n",
       "\n",
       ".xr-obj-type {\n",
       "  color: var(--xr-font-color2);\n",
       "}\n",
       "\n",
       ".xr-sections {\n",
       "  padding-left: 0 !important;\n",
       "  display: grid;\n",
       "  grid-template-columns: 150px auto auto 1fr 20px 20px;\n",
       "}\n",
       "\n",
       ".xr-section-item {\n",
       "  display: contents;\n",
       "}\n",
       "\n",
       ".xr-section-item input {\n",
       "  display: none;\n",
       "}\n",
       "\n",
       ".xr-section-item input + label {\n",
       "  color: var(--xr-disabled-color);\n",
       "}\n",
       "\n",
       ".xr-section-item input:enabled + label {\n",
       "  cursor: pointer;\n",
       "  color: var(--xr-font-color2);\n",
       "}\n",
       "\n",
       ".xr-section-item input:enabled + label:hover {\n",
       "  color: var(--xr-font-color0);\n",
       "}\n",
       "\n",
       ".xr-section-summary {\n",
       "  grid-column: 1;\n",
       "  color: var(--xr-font-color2);\n",
       "  font-weight: 500;\n",
       "}\n",
       "\n",
       ".xr-section-summary > span {\n",
       "  display: inline-block;\n",
       "  padding-left: 0.5em;\n",
       "}\n",
       "\n",
       ".xr-section-summary-in:disabled + label {\n",
       "  color: var(--xr-font-color2);\n",
       "}\n",
       "\n",
       ".xr-section-summary-in + label:before {\n",
       "  display: inline-block;\n",
       "  content: '►';\n",
       "  font-size: 11px;\n",
       "  width: 15px;\n",
       "  text-align: center;\n",
       "}\n",
       "\n",
       ".xr-section-summary-in:disabled + label:before {\n",
       "  color: var(--xr-disabled-color);\n",
       "}\n",
       "\n",
       ".xr-section-summary-in:checked + label:before {\n",
       "  content: '▼';\n",
       "}\n",
       "\n",
       ".xr-section-summary-in:checked + label > span {\n",
       "  display: none;\n",
       "}\n",
       "\n",
       ".xr-section-summary,\n",
       ".xr-section-inline-details {\n",
       "  padding-top: 4px;\n",
       "  padding-bottom: 4px;\n",
       "}\n",
       "\n",
       ".xr-section-inline-details {\n",
       "  grid-column: 2 / -1;\n",
       "}\n",
       "\n",
       ".xr-section-details {\n",
       "  display: none;\n",
       "  grid-column: 1 / -1;\n",
       "  margin-bottom: 5px;\n",
       "}\n",
       "\n",
       ".xr-section-summary-in:checked ~ .xr-section-details {\n",
       "  display: contents;\n",
       "}\n",
       "\n",
       ".xr-array-wrap {\n",
       "  grid-column: 1 / -1;\n",
       "  display: grid;\n",
       "  grid-template-columns: 20px auto;\n",
       "}\n",
       "\n",
       ".xr-array-wrap > label {\n",
       "  grid-column: 1;\n",
       "  vertical-align: top;\n",
       "}\n",
       "\n",
       ".xr-preview {\n",
       "  color: var(--xr-font-color3);\n",
       "}\n",
       "\n",
       ".xr-array-preview,\n",
       ".xr-array-data {\n",
       "  padding: 0 5px !important;\n",
       "  grid-column: 2;\n",
       "}\n",
       "\n",
       ".xr-array-data,\n",
       ".xr-array-in:checked ~ .xr-array-preview {\n",
       "  display: none;\n",
       "}\n",
       "\n",
       ".xr-array-in:checked ~ .xr-array-data,\n",
       ".xr-array-preview {\n",
       "  display: inline-block;\n",
       "}\n",
       "\n",
       ".xr-dim-list {\n",
       "  display: inline-block !important;\n",
       "  list-style: none;\n",
       "  padding: 0 !important;\n",
       "  margin: 0;\n",
       "}\n",
       "\n",
       ".xr-dim-list li {\n",
       "  display: inline-block;\n",
       "  padding: 0;\n",
       "  margin: 0;\n",
       "}\n",
       "\n",
       ".xr-dim-list:before {\n",
       "  content: '(';\n",
       "}\n",
       "\n",
       ".xr-dim-list:after {\n",
       "  content: ')';\n",
       "}\n",
       "\n",
       ".xr-dim-list li:not(:last-child):after {\n",
       "  content: ',';\n",
       "  padding-right: 5px;\n",
       "}\n",
       "\n",
       ".xr-has-index {\n",
       "  font-weight: bold;\n",
       "}\n",
       "\n",
       ".xr-var-list,\n",
       ".xr-var-item {\n",
       "  display: contents;\n",
       "}\n",
       "\n",
       ".xr-var-item > div,\n",
       ".xr-var-item label,\n",
       ".xr-var-item > .xr-var-name span {\n",
       "  background-color: var(--xr-background-color-row-even);\n",
       "  margin-bottom: 0;\n",
       "}\n",
       "\n",
       ".xr-var-item > .xr-var-name:hover span {\n",
       "  padding-right: 5px;\n",
       "}\n",
       "\n",
       ".xr-var-list > li:nth-child(odd) > div,\n",
       ".xr-var-list > li:nth-child(odd) > label,\n",
       ".xr-var-list > li:nth-child(odd) > .xr-var-name span {\n",
       "  background-color: var(--xr-background-color-row-odd);\n",
       "}\n",
       "\n",
       ".xr-var-name {\n",
       "  grid-column: 1;\n",
       "}\n",
       "\n",
       ".xr-var-dims {\n",
       "  grid-column: 2;\n",
       "}\n",
       "\n",
       ".xr-var-dtype {\n",
       "  grid-column: 3;\n",
       "  text-align: right;\n",
       "  color: var(--xr-font-color2);\n",
       "}\n",
       "\n",
       ".xr-var-preview {\n",
       "  grid-column: 4;\n",
       "}\n",
       "\n",
       ".xr-index-preview {\n",
       "  grid-column: 2 / 5;\n",
       "  color: var(--xr-font-color2);\n",
       "}\n",
       "\n",
       ".xr-var-name,\n",
       ".xr-var-dims,\n",
       ".xr-var-dtype,\n",
       ".xr-preview,\n",
       ".xr-attrs dt {\n",
       "  white-space: nowrap;\n",
       "  overflow: hidden;\n",
       "  text-overflow: ellipsis;\n",
       "  padding-right: 10px;\n",
       "}\n",
       "\n",
       ".xr-var-name:hover,\n",
       ".xr-var-dims:hover,\n",
       ".xr-var-dtype:hover,\n",
       ".xr-attrs dt:hover {\n",
       "  overflow: visible;\n",
       "  width: auto;\n",
       "  z-index: 1;\n",
       "}\n",
       "\n",
       ".xr-var-attrs,\n",
       ".xr-var-data,\n",
       ".xr-index-data {\n",
       "  display: none;\n",
       "  background-color: var(--xr-background-color) !important;\n",
       "  padding-bottom: 5px !important;\n",
       "}\n",
       "\n",
       ".xr-var-attrs-in:checked ~ .xr-var-attrs,\n",
       ".xr-var-data-in:checked ~ .xr-var-data,\n",
       ".xr-index-data-in:checked ~ .xr-index-data {\n",
       "  display: block;\n",
       "}\n",
       "\n",
       ".xr-var-data > table {\n",
       "  float: right;\n",
       "}\n",
       "\n",
       ".xr-var-name span,\n",
       ".xr-var-data,\n",
       ".xr-index-name div,\n",
       ".xr-index-data,\n",
       ".xr-attrs {\n",
       "  padding-left: 25px !important;\n",
       "}\n",
       "\n",
       ".xr-attrs,\n",
       ".xr-var-attrs,\n",
       ".xr-var-data,\n",
       ".xr-index-data {\n",
       "  grid-column: 1 / -1;\n",
       "}\n",
       "\n",
       "dl.xr-attrs {\n",
       "  padding: 0;\n",
       "  margin: 0;\n",
       "  display: grid;\n",
       "  grid-template-columns: 125px auto;\n",
       "}\n",
       "\n",
       ".xr-attrs dt,\n",
       ".xr-attrs dd {\n",
       "  padding: 0;\n",
       "  margin: 0;\n",
       "  float: left;\n",
       "  padding-right: 10px;\n",
       "  width: auto;\n",
       "}\n",
       "\n",
       ".xr-attrs dt {\n",
       "  font-weight: normal;\n",
       "  grid-column: 1;\n",
       "}\n",
       "\n",
       ".xr-attrs dt:hover span {\n",
       "  display: inline-block;\n",
       "  background: var(--xr-background-color);\n",
       "  padding-right: 10px;\n",
       "}\n",
       "\n",
       ".xr-attrs dd {\n",
       "  grid-column: 2;\n",
       "  white-space: pre-wrap;\n",
       "  word-break: break-all;\n",
       "}\n",
       "\n",
       ".xr-icon-database,\n",
       ".xr-icon-file-text2,\n",
       ".xr-no-icon {\n",
       "  display: inline-block;\n",
       "  vertical-align: middle;\n",
       "  width: 1em;\n",
       "  height: 1.5em !important;\n",
       "  stroke-width: 0;\n",
       "  stroke: currentColor;\n",
       "  fill: currentColor;\n",
       "}\n",
       "</style><pre class='xr-text-repr-fallback'>&lt;xarray.Dataset&gt; Size: 1MB\n",
       "Dimensions:                 (epoch: 2880, energy_spectra: 48)\n",
       "Coordinates:\n",
       "  * energy_spectra          (energy_spectra) float32 192B 2.324e+04 ... 25.94\n",
       "  * epoch                   (epoch) float64 23kB 4.733e+08 ... 4.735e+08\n",
       "Data variables:\n",
       "    time_met                (epoch) float64 23kB 4.733e+08 ... 4.735e+08\n",
       "    time_unix               (epoch) float64 23kB 1.42e+09 1.42e+09 ... 1.42e+09\n",
       "    atten_state             (epoch) uint8 3kB 2 2 2 2 2 2 2 2 ... 1 1 1 1 1 1 1\n",
       "    num_accum               (epoch) int16 6kB 1 1 1 1 1 1 1 1 ... 1 1 1 1 1 1 1\n",
       "    decom_flag              (epoch) float32 12kB 1.0 1.0 1.0 1.0 ... 1.0 1.0 1.0\n",
       "    spectra_counts          (epoch, energy_spectra) float32 553kB 0.0 ... 7.0\n",
       "    spectra_diff_en_fluxes  (epoch, energy_spectra) float32 553kB 0.0 ... 2.4...\n",
       "    geom_factor             (epoch) float32 12kB 0.00392 0.00392 ... 0.00392\n",
       "    de_over_e_spectra       (epoch) float32 12kB 0.15 0.15 0.15 ... 0.15 0.15\n",
       "    accum_time_spectra      (epoch) float32 12kB 1.306 1.306 ... 1.306 1.306\n",
       "    num_spec                (epoch) int16 6kB 21600 21600 21600 ... 21600 21600\n",
       "Attributes: (12/24)\n",
       "    TITLE:                       [&#x27;MAVEN SWIA Onboard Energy Spectra&#x27;]\n",
       "    Project:                     [&#x27;MAVEN&gt;Mars Atmosphere and Volatile Evoluti...\n",
       "    Discipline:                  [&#x27;Planetary Physics&gt;Particles&#x27;]\n",
       "    Source_name:                 [&#x27;MAVEN&gt;Mars Atmosphere and Volatile Evoluti...\n",
       "    Descriptor:                  [&#x27;SWIA&gt;Solar Wind Ion Analyzer&#x27;]\n",
       "    Data_type:                   [&#x27;CAL&gt;Calibrated&#x27;]\n",
       "    ...                          ...\n",
       "    PDS_start_time:              [&#x27;2015-01-01T00:00:04.836Z&#x27;]\n",
       "    PDS_stop_time:               [&#x27;2015-01-02T00:00:00.537Z&#x27;]\n",
       "    PDS_sclk_start_count:        [31020966359569.0]\n",
       "    PDS_sclk_stop_count:         [31026628384996.77]\n",
       "    leapseconds_kernel:          [&#x27;naif0012.tls&#x27;]\n",
       "    Spacecraft_clock_kernel:     [&#x27;MVN_SCLKSCET.00096.tsc&#x27;]</pre><div class='xr-wrap' style='display:none'><div class='xr-header'><div class='xr-obj-type'>xarray.Dataset</div></div><ul class='xr-sections'><li class='xr-section-item'><input id='section-fffe4bd1-319b-44b4-a472-53f946068e95' class='xr-section-summary-in' type='checkbox' disabled ><label for='section-fffe4bd1-319b-44b4-a472-53f946068e95' class='xr-section-summary'  title='Expand/collapse section'>Dimensions:</label><div class='xr-section-inline-details'><ul class='xr-dim-list'><li><span class='xr-has-index'>epoch</span>: 2880</li><li><span class='xr-has-index'>energy_spectra</span>: 48</li></ul></div><div class='xr-section-details'></div></li><li class='xr-section-item'><input id='section-62d0e58c-d8d7-401e-9a18-77514edeed4a' class='xr-section-summary-in' type='checkbox'  checked><label for='section-62d0e58c-d8d7-401e-9a18-77514edeed4a' class='xr-section-summary' >Coordinates: <span>(2)</span></label><div class='xr-section-inline-details'></div><div class='xr-section-details'><ul class='xr-var-list'><li class='xr-var-item'><div class='xr-var-name'><span class='xr-has-index'>energy_spectra</span></div><div class='xr-var-dims'>(energy_spectra)</div><div class='xr-var-dtype'>float32</div><div class='xr-var-preview xr-preview'>2.324e+04 2.011e+04 ... 29.97 25.94</div><input id='attrs-0066d905-b0bb-42e3-b9b8-0e9bf30b2188' class='xr-var-attrs-in' type='checkbox' ><label for='attrs-0066d905-b0bb-42e3-b9b8-0e9bf30b2188' title='Show/Hide attributes'><svg class='icon xr-icon-file-text2'><use xlink:href='#icon-file-text2'></use></svg></label><input id='data-7b7a2980-06ed-470f-b083-897c3e49f58b' class='xr-var-data-in' type='checkbox'><label for='data-7b7a2980-06ed-470f-b083-897c3e49f58b' title='Show/Hide data repr'><svg class='icon xr-icon-database'><use xlink:href='#icon-database'></use></svg></label><div class='xr-var-attrs'><dl class='xr-attrs'><dt><span>FIELDNAM :</span></dt><dd>energy_spectra</dd><dt><span>FORMAT :</span></dt><dd>F15.7</dd><dt><span>LABLAXIS :</span></dt><dd>energy_spectra</dd><dt><span>VAR_TYPE :</span></dt><dd>support_data</dd><dt><span>FILLVAL :</span></dt><dd>-9.999999848243207e+30</dd><dt><span>DISPLAY_TYPE :</span></dt><dd>time_series</dd><dt><span>VALIDMIN :</span></dt><dd>0.0</dd><dt><span>VALIDMAX :</span></dt><dd>50000.0</dd><dt><span>SCALEMIN :</span></dt><dd>0.0</dd><dt><span>SCALEMAX :</span></dt><dd>30000.0</dd><dt><span>UNITS :</span></dt><dd>eV</dd><dt><span>CATDESC :</span></dt><dd>Spectra Energy Table</dd><dt><span>standard_name :</span></dt><dd>energy_spectra</dd><dt><span>long_name :</span></dt><dd>energy_spectra</dd><dt><span>units :</span></dt><dd>eV</dd></dl></div><div class='xr-var-data'><pre>array([23244.787   , 20114.47    , 17405.707   , 15061.723   , 13033.399   ,\n",
       "       11278.225   ,  9759.414   ,  8445.139   ,  7307.8535  ,  6323.7236  ,\n",
       "        5472.124   ,  4735.207   ,  4097.5283  ,  3545.7246  ,  3068.231   ,\n",
       "        2655.04    ,  2297.4924  ,  1988.095   ,  1720.3633  ,  1488.6863  ,\n",
       "        1288.2087  ,  1114.729   ,   964.6112  ,   834.7095  ,   722.3013  ,\n",
       "         625.03076 ,   540.85944 ,   468.02332 ,   404.9958  ,   350.45602 ,\n",
       "         303.261   ,   262.4216  ,   227.08195 ,   196.5014  ,   170.03906 ,\n",
       "         147.14032 ,   127.32532 ,   110.17874 ,    95.34125 ,    82.50188 ,\n",
       "          71.391556,    61.777443,    53.45803 ,    46.258972,    40.029396,\n",
       "          34.638737,    29.974026,    25.9375  ], dtype=float32)</pre></div></li><li class='xr-var-item'><div class='xr-var-name'><span class='xr-has-index'>epoch</span></div><div class='xr-var-dims'>(epoch)</div><div class='xr-var-dtype'>float64</div><div class='xr-var-preview xr-preview'>4.733e+08 4.733e+08 ... 4.735e+08</div><input id='attrs-61a74c46-0b0a-4635-84be-ccc7df82c726' class='xr-var-attrs-in' type='checkbox' ><label for='attrs-61a74c46-0b0a-4635-84be-ccc7df82c726' title='Show/Hide attributes'><svg class='icon xr-icon-file-text2'><use xlink:href='#icon-file-text2'></use></svg></label><input id='data-273463ee-8ce0-4220-96b7-ce24d8a27191' class='xr-var-data-in' type='checkbox'><label for='data-273463ee-8ce0-4220-96b7-ce24d8a27191' title='Show/Hide data repr'><svg class='icon xr-icon-database'><use xlink:href='#icon-database'></use></svg></label><div class='xr-var-attrs'><dl class='xr-attrs'><dt><span>FIELDNAM :</span></dt><dd>epoch</dd><dt><span>MONOTON :</span></dt><dd>INCREASE</dd><dt><span>FORMAT :</span></dt><dd>I22</dd><dt><span>LABLAXIS :</span></dt><dd>epoch</dd><dt><span>VAR_TYPE :</span></dt><dd>support_data</dd><dt><span>FILLVAL :</span></dt><dd>-9223372036854775808</dd><dt><span>DISPLAY_TYPE :</span></dt><dd>time_series</dd><dt><span>VALIDMIN :</span></dt><dd>438004867184000000</dd><dt><span>VALIDMAX :</span></dt><dd>978264009184000000</dd><dt><span>SCALEMIN :</span></dt><dd>473342472020937216</dd><dt><span>SCALEMAX :</span></dt><dd>473428867721705920</dd><dt><span>UNITS :</span></dt><dd>s</dd><dt><span>CATDESC :</span></dt><dd>Time, start of sample, in TT2000 time base</dd><dt><span>standard_name :</span></dt><dd>epoch</dd><dt><span>long_name :</span></dt><dd>epoch</dd><dt><span>units :</span></dt><dd>s</dd></dl></div><div class='xr-var-data'><pre>array([4.733425e+08, 4.733425e+08, 4.733426e+08, ..., 4.735151e+08,\n",
       "       4.735152e+08, 4.735152e+08])</pre></div></li></ul></div></li><li class='xr-section-item'><input id='section-179fc117-45a7-4ce2-b7db-1aea9b13c441' class='xr-section-summary-in' type='checkbox'  checked><label for='section-179fc117-45a7-4ce2-b7db-1aea9b13c441' class='xr-section-summary' >Data variables: <span>(11)</span></label><div class='xr-section-inline-details'></div><div class='xr-section-details'><ul class='xr-var-list'><li class='xr-var-item'><div class='xr-var-name'><span>time_met</span></div><div class='xr-var-dims'>(epoch)</div><div class='xr-var-dtype'>float64</div><div class='xr-var-preview xr-preview'>4.733e+08 4.733e+08 ... 4.735e+08</div><input id='attrs-1a7f256a-d5a2-4739-9cfd-2ae299446ecf' class='xr-var-attrs-in' type='checkbox' ><label for='attrs-1a7f256a-d5a2-4739-9cfd-2ae299446ecf' title='Show/Hide attributes'><svg class='icon xr-icon-file-text2'><use xlink:href='#icon-file-text2'></use></svg></label><input id='data-3a46c5c7-3b00-4f46-9777-d06ce6f8e343' class='xr-var-data-in' type='checkbox'><label for='data-3a46c5c7-3b00-4f46-9777-d06ce6f8e343' title='Show/Hide data repr'><svg class='icon xr-icon-database'><use xlink:href='#icon-database'></use></svg></label><div class='xr-var-attrs'><dl class='xr-attrs'><dt><span>FIELDNAM :</span></dt><dd>time_met</dd><dt><span>MONOTON :</span></dt><dd>INCREASE</dd><dt><span>FORMAT :</span></dt><dd>F25.6</dd><dt><span>LABLAXIS :</span></dt><dd>time_met</dd><dt><span>VAR_TYPE :</span></dt><dd>support_data</dd><dt><span>FILLVAL :</span></dt><dd>-1e+31</dd><dt><span>DEPEND_0 :</span></dt><dd>epoch</dd><dt><span>DISPLAY_TYPE :</span></dt><dd>time_series</dd><dt><span>VALIDMIN :</span></dt><dd>438004800.0</dd><dt><span>VALIDMAX :</span></dt><dd>978263940.0</dd><dt><span>SCALEMIN :</span></dt><dd>473342384.87657166</dd><dt><span>SCALEMAX :</span></dt><dd>473428780.52827454</dd><dt><span>UNITS :</span></dt><dd>s</dd><dt><span>CATDESC :</span></dt><dd>Time, start of sample, in raw mission elapsed time</dd><dt><span>standard_name :</span></dt><dd>time_met</dd><dt><span>long_name :</span></dt><dd>time_met</dd><dt><span>units :</span></dt><dd>s</dd></dl></div><div class='xr-var-data'><pre>array([4.73342385e+08, 4.73342445e+08, 4.73342505e+08, ...,\n",
       "       4.73515004e+08, 4.73515064e+08, 4.73515124e+08])</pre></div></li><li class='xr-var-item'><div class='xr-var-name'><span>time_unix</span></div><div class='xr-var-dims'>(epoch)</div><div class='xr-var-dtype'>float64</div><div class='xr-var-preview xr-preview'>1.42e+09 1.42e+09 ... 1.42e+09</div><input id='attrs-bdd0715b-eabd-4f05-b109-c87c73a519c6' class='xr-var-attrs-in' type='checkbox' ><label for='attrs-bdd0715b-eabd-4f05-b109-c87c73a519c6' title='Show/Hide attributes'><svg class='icon xr-icon-file-text2'><use xlink:href='#icon-file-text2'></use></svg></label><input id='data-5112db42-515d-4b5e-8990-915d33a7a12a' class='xr-var-data-in' type='checkbox'><label for='data-5112db42-515d-4b5e-8990-915d33a7a12a' title='Show/Hide data repr'><svg class='icon xr-icon-database'><use xlink:href='#icon-database'></use></svg></label><div class='xr-var-attrs'><dl class='xr-attrs'><dt><span>FIELDNAM :</span></dt><dd>time_unix</dd><dt><span>MONOTON :</span></dt><dd>INCREASE</dd><dt><span>FORMAT :</span></dt><dd>F25.6</dd><dt><span>LABLAXIS :</span></dt><dd>time_unix</dd><dt><span>VAR_TYPE :</span></dt><dd>support_data</dd><dt><span>FILLVAL :</span></dt><dd>-1e+31</dd><dt><span>DEPEND_0 :</span></dt><dd>epoch</dd><dt><span>DISPLAY_TYPE :</span></dt><dd>time_series</dd><dt><span>VALIDMIN :</span></dt><dd>1384732800.0</dd><dt><span>VALIDMAX :</span></dt><dd>1924991940.0</dd><dt><span>SCALEMIN :</span></dt><dd>1420070404.8369372</dd><dt><span>SCALEMAX :</span></dt><dd>1420156800.537706</dd><dt><span>UNITS :</span></dt><dd>s</dd><dt><span>CATDESC :</span></dt><dd>Time, start of sample, in Unix time</dd><dt><span>standard_name :</span></dt><dd>time_unix</dd><dt><span>long_name :</span></dt><dd>time_unix</dd><dt><span>units :</span></dt><dd>s</dd></dl></div><div class='xr-var-data'><pre>array([1.42007040e+09, 1.42007046e+09, 1.42007052e+09, ...,\n",
       "       1.42024302e+09, 1.42024308e+09, 1.42024314e+09])</pre></div></li><li class='xr-var-item'><div class='xr-var-name'><span>atten_state</span></div><div class='xr-var-dims'>(epoch)</div><div class='xr-var-dtype'>uint8</div><div class='xr-var-preview xr-preview'>2 2 2 2 2 2 2 2 ... 1 1 1 1 1 1 1 1</div><input id='attrs-e6679ad1-feec-4f84-b8e8-dc6f2440b4cf' class='xr-var-attrs-in' type='checkbox' ><label for='attrs-e6679ad1-feec-4f84-b8e8-dc6f2440b4cf' title='Show/Hide attributes'><svg class='icon xr-icon-file-text2'><use xlink:href='#icon-file-text2'></use></svg></label><input id='data-c51b93d6-39f3-463b-994b-eeaca2769732' class='xr-var-data-in' type='checkbox'><label for='data-c51b93d6-39f3-463b-994b-eeaca2769732' title='Show/Hide data repr'><svg class='icon xr-icon-database'><use xlink:href='#icon-database'></use></svg></label><div class='xr-var-attrs'><dl class='xr-attrs'><dt><span>FIELDNAM :</span></dt><dd>atten_state</dd><dt><span>FORMAT :</span></dt><dd>I7</dd><dt><span>LABLAXIS :</span></dt><dd>atten_state</dd><dt><span>VAR_TYPE :</span></dt><dd>support_data</dd><dt><span>FILLVAL :</span></dt><dd>255</dd><dt><span>DEPEND_0 :</span></dt><dd>epoch</dd><dt><span>DISPLAY_TYPE :</span></dt><dd>time_series</dd><dt><span>VALIDMIN :</span></dt><dd>1</dd><dt><span>VALIDMAX :</span></dt><dd>3</dd><dt><span>SCALEMIN :</span></dt><dd>1</dd><dt><span>SCALEMAX :</span></dt><dd>3</dd><dt><span>CATDESC :</span></dt><dd>Attenuator state, 1 = open, 2 = closed, 3 = cover closed</dd><dt><span>standard_name :</span></dt><dd>atten_state</dd><dt><span>long_name :</span></dt><dd>atten_state</dd></dl></div><div class='xr-var-data'><pre>array([2, 2, 2, ..., 1, 1, 1], dtype=uint8)</pre></div></li><li class='xr-var-item'><div class='xr-var-name'><span>num_accum</span></div><div class='xr-var-dims'>(epoch)</div><div class='xr-var-dtype'>int16</div><div class='xr-var-preview xr-preview'>1 1 1 1 1 1 1 1 ... 1 1 1 1 1 1 1 1</div><input id='attrs-252d5620-71f7-40c5-b958-334d5637d9f3' class='xr-var-attrs-in' type='checkbox' ><label for='attrs-252d5620-71f7-40c5-b958-334d5637d9f3' title='Show/Hide attributes'><svg class='icon xr-icon-file-text2'><use xlink:href='#icon-file-text2'></use></svg></label><input id='data-7ed08956-2a0c-43c0-8ed8-c4dd42f05b87' class='xr-var-data-in' type='checkbox'><label for='data-7ed08956-2a0c-43c0-8ed8-c4dd42f05b87' title='Show/Hide data repr'><svg class='icon xr-icon-database'><use xlink:href='#icon-database'></use></svg></label><div class='xr-var-attrs'><dl class='xr-attrs'><dt><span>FIELDNAM :</span></dt><dd>num_accum</dd><dt><span>FORMAT :</span></dt><dd>I7</dd><dt><span>LABLAXIS :</span></dt><dd>num_accum</dd><dt><span>VAR_TYPE :</span></dt><dd>support_data</dd><dt><span>FILLVAL :</span></dt><dd>-32768</dd><dt><span>DEPEND_0 :</span></dt><dd>epoch</dd><dt><span>DISPLAY_TYPE :</span></dt><dd>time_series</dd><dt><span>VALIDMIN :</span></dt><dd>0</dd><dt><span>VALIDMAX :</span></dt><dd>512</dd><dt><span>SCALEMIN :</span></dt><dd>0</dd><dt><span>SCALEMAX :</span></dt><dd>512</dd><dt><span>CATDESC :</span></dt><dd>Number of Accumulations Summed</dd><dt><span>standard_name :</span></dt><dd>num_accum</dd><dt><span>long_name :</span></dt><dd>num_accum</dd></dl></div><div class='xr-var-data'><pre>array([1, 1, 1, ..., 1, 1, 1], dtype=int16)</pre></div></li><li class='xr-var-item'><div class='xr-var-name'><span>decom_flag</span></div><div class='xr-var-dims'>(epoch)</div><div class='xr-var-dtype'>float32</div><div class='xr-var-preview xr-preview'>1.0 1.0 1.0 1.0 ... 1.0 1.0 1.0 1.0</div><input id='attrs-391daec5-b845-449e-a9ec-de988558ffcc' class='xr-var-attrs-in' type='checkbox' ><label for='attrs-391daec5-b845-449e-a9ec-de988558ffcc' title='Show/Hide attributes'><svg class='icon xr-icon-file-text2'><use xlink:href='#icon-file-text2'></use></svg></label><input id='data-610262e4-1a12-4906-9556-5171b55db6d9' class='xr-var-data-in' type='checkbox'><label for='data-610262e4-1a12-4906-9556-5171b55db6d9' title='Show/Hide data repr'><svg class='icon xr-icon-database'><use xlink:href='#icon-database'></use></svg></label><div class='xr-var-attrs'><dl class='xr-attrs'><dt><span>FIELDNAM :</span></dt><dd>decom_flag</dd><dt><span>FORMAT :</span></dt><dd>F15.7</dd><dt><span>LABLAXIS :</span></dt><dd>decom_flag</dd><dt><span>VAR_TYPE :</span></dt><dd>support_data</dd><dt><span>FILLVAL :</span></dt><dd>-9.999999848243207e+30</dd><dt><span>DEPEND_0 :</span></dt><dd>epoch</dd><dt><span>DISPLAY_TYPE :</span></dt><dd>time_series</dd><dt><span>VALIDMIN :</span></dt><dd>0.0</dd><dt><span>VALIDMAX :</span></dt><dd>1.0</dd><dt><span>SCALEMIN :</span></dt><dd>0.0</dd><dt><span>SCALEMAX :</span></dt><dd>1.0</dd><dt><span>CATDESC :</span></dt><dd>Decommutation Flag: 0 = uncertain mode/attenuator flags, 1 = known mode/attenuator flags</dd><dt><span>standard_name :</span></dt><dd>decom_flag</dd><dt><span>long_name :</span></dt><dd>decom_flag</dd></dl></div><div class='xr-var-data'><pre>array([1., 1., 1., ..., 1., 1., 1.], dtype=float32)</pre></div></li><li class='xr-var-item'><div class='xr-var-name'><span>spectra_counts</span></div><div class='xr-var-dims'>(epoch, energy_spectra)</div><div class='xr-var-dtype'>float32</div><div class='xr-var-preview xr-preview'>0.0 2.0 1.0 1.0 ... 7.0 2.0 2.0 7.0</div><input id='attrs-f3c0e2e7-6ae3-42f5-ab60-a16747cc8c34' class='xr-var-attrs-in' type='checkbox' ><label for='attrs-f3c0e2e7-6ae3-42f5-ab60-a16747cc8c34' title='Show/Hide attributes'><svg class='icon xr-icon-file-text2'><use xlink:href='#icon-file-text2'></use></svg></label><input id='data-6090432d-cca6-483f-b8a7-0097c97b87b0' class='xr-var-data-in' type='checkbox'><label for='data-6090432d-cca6-483f-b8a7-0097c97b87b0' title='Show/Hide data repr'><svg class='icon xr-icon-database'><use xlink:href='#icon-database'></use></svg></label><div class='xr-var-attrs'><dl class='xr-attrs'><dt><span>FIELDNAM :</span></dt><dd>spectra_counts</dd><dt><span>FORMAT :</span></dt><dd>F18.7</dd><dt><span>LABLAXIS :</span></dt><dd>spectra_counts</dd><dt><span>VAR_TYPE :</span></dt><dd>support_data</dd><dt><span>FILLVAL :</span></dt><dd>-9.999999848243207e+30</dd><dt><span>DEPEND_0 :</span></dt><dd>epoch</dd><dt><span>DEPEND_1 :</span></dt><dd>energy_spectra</dd><dt><span>DISPLAY_TYPE :</span></dt><dd>spectrogram</dd><dt><span>VALIDMIN :</span></dt><dd>0.0</dd><dt><span>VALIDMAX :</span></dt><dd>10000000000.0</dd><dt><span>SCALEMIN :</span></dt><dd>0.0</dd><dt><span>SCALEMAX :</span></dt><dd>100000.0</dd><dt><span>UNITS :</span></dt><dd>counts</dd><dt><span>CATDESC :</span></dt><dd>Raw Instrument Counts</dd><dt><span>standard_name :</span></dt><dd>spectra_counts</dd><dt><span>long_name :</span></dt><dd>spectra_counts</dd><dt><span>units :</span></dt><dd>counts</dd></dl></div><div class='xr-var-data'><pre>array([[ 0.,  2.,  1., ...,  5.,  3.,  8.],\n",
       "       [ 1.,  3.,  1., ...,  8.,  2.,  5.],\n",
       "       [ 2.,  3.,  0., ..., 29., 11.,  7.],\n",
       "       ...,\n",
       "       [ 1.,  1.,  1., ..., 46., 52., 32.],\n",
       "       [ 1.,  2.,  6., ...,  7., 10.,  5.],\n",
       "       [ 4.,  4.,  0., ...,  2.,  2.,  7.]], dtype=float32)</pre></div></li><li class='xr-var-item'><div class='xr-var-name'><span>spectra_diff_en_fluxes</span></div><div class='xr-var-dims'>(epoch, energy_spectra)</div><div class='xr-var-dtype'>float32</div><div class='xr-var-preview xr-preview'>0.0 8.071e+04 ... 2.447e+04</div><input id='attrs-f36bdc19-aba5-4e8c-8bb8-5a6a196a4075' class='xr-var-attrs-in' type='checkbox' ><label for='attrs-f36bdc19-aba5-4e8c-8bb8-5a6a196a4075' title='Show/Hide attributes'><svg class='icon xr-icon-file-text2'><use xlink:href='#icon-file-text2'></use></svg></label><input id='data-3cee8fa8-abfd-4a67-86ad-f0961236121d' class='xr-var-data-in' type='checkbox'><label for='data-3cee8fa8-abfd-4a67-86ad-f0961236121d' title='Show/Hide data repr'><svg class='icon xr-icon-database'><use xlink:href='#icon-database'></use></svg></label><div class='xr-var-attrs'><dl class='xr-attrs'><dt><span>FIELDNAM :</span></dt><dd>spectra_diff_en_fluxes</dd><dt><span>FORMAT :</span></dt><dd>F18.7</dd><dt><span>LABLAXIS :</span></dt><dd>spectra_diff_en_fluxes</dd><dt><span>VAR_TYPE :</span></dt><dd>data</dd><dt><span>FILLVAL :</span></dt><dd>-9.999999848243207e+30</dd><dt><span>DEPEND_0 :</span></dt><dd>epoch</dd><dt><span>DEPEND_1 :</span></dt><dd>energy_spectra</dd><dt><span>DISPLAY_TYPE :</span></dt><dd>spectrogram</dd><dt><span>VALIDMIN :</span></dt><dd>0.0</dd><dt><span>VALIDMAX :</span></dt><dd>100000000376832.0</dd><dt><span>SCALEMIN :</span></dt><dd>0.0</dd><dt><span>SCALEMAX :</span></dt><dd>99999997952.0</dd><dt><span>UNITS :</span></dt><dd>ev/[eV cm^2 sr s]</dd><dt><span>CATDESC :</span></dt><dd>Calibrated Differential Energy Flux</dd><dt><span>standard_name :</span></dt><dd>spectra_diff_en_fluxes</dd><dt><span>long_name :</span></dt><dd>spectra_diff_en_fluxes</dd><dt><span>units :</span></dt><dd>ev/[eV cm^2 sr s]</dd></dl></div><div class='xr-var-data'><pre>array([[      0.    ,   80712.18  ,   40356.082 , ...,  203690.05  ,\n",
       "         122214.02  ,  325904.2   ],\n",
       "       [  40356.082 ,  121068.27  ,   40356.082 , ...,  325904.2   ,\n",
       "          81476.016 ,  203690.05  ],\n",
       "       [  80712.18  ,  121068.27  ,       0.    , ..., 1181404.5   ,\n",
       "         448118.3   ,  285166.12  ],\n",
       "       ...,\n",
       "       [   3211.996 ,    3212.9568,    3213.7678, ...,  160776.1   ,\n",
       "         181746.98  ,  111844.125 ],\n",
       "       [   3211.996 ,    6425.9146,   19282.613 , ...,   24465.855 ,\n",
       "          34951.227 ,   17475.607 ],\n",
       "       [  12847.987 ,   12851.829 ,       0.    , ...,    6990.242 ,\n",
       "           6990.242 ,   24465.855 ]], dtype=float32)</pre></div></li><li class='xr-var-item'><div class='xr-var-name'><span>geom_factor</span></div><div class='xr-var-dims'>(epoch)</div><div class='xr-var-dtype'>float32</div><div class='xr-var-preview xr-preview'>0.00392 0.00392 ... 0.00392 0.00392</div><input id='attrs-fec8c278-b9a1-4f50-a05e-72ed34859326' class='xr-var-attrs-in' type='checkbox' ><label for='attrs-fec8c278-b9a1-4f50-a05e-72ed34859326' title='Show/Hide attributes'><svg class='icon xr-icon-file-text2'><use xlink:href='#icon-file-text2'></use></svg></label><input id='data-f745e5c8-0c0b-4160-b7e8-a2d056423afe' class='xr-var-data-in' type='checkbox'><label for='data-f745e5c8-0c0b-4160-b7e8-a2d056423afe' title='Show/Hide data repr'><svg class='icon xr-icon-database'><use xlink:href='#icon-database'></use></svg></label><div class='xr-var-attrs'><dl class='xr-attrs'><dt><span>FIELDNAM :</span></dt><dd>geom_factor</dd><dt><span>FORMAT :</span></dt><dd>F15.7</dd><dt><span>LABLAXIS :</span></dt><dd>geom_factor</dd><dt><span>VAR_TYPE :</span></dt><dd>support_data</dd><dt><span>FILLVAL :</span></dt><dd>-9.999999848243207e+30</dd><dt><span>DISPLAY_TYPE :</span></dt><dd>time_series</dd><dt><span>VALIDMIN :</span></dt><dd>0.0</dd><dt><span>VALIDMAX :</span></dt><dd>1.0</dd><dt><span>SCALEMIN :</span></dt><dd>0.0</dd><dt><span>SCALEMAX :</span></dt><dd>0.009999999776482582</dd><dt><span>UNITS :</span></dt><dd>cm^2 sr eV/eV</dd><dt><span>CATDESC :</span></dt><dd>Full Analyzer Geometric Factor</dd><dt><span>standard_name :</span></dt><dd>geom_factor</dd><dt><span>long_name :</span></dt><dd>geom_factor</dd><dt><span>units :</span></dt><dd>cm^2 sr eV/eV</dd></dl></div><div class='xr-var-data'><pre>array([0.00392, 0.00392, 0.00392, ..., 0.00392, 0.00392, 0.00392],\n",
       "      dtype=float32)</pre></div></li><li class='xr-var-item'><div class='xr-var-name'><span>de_over_e_spectra</span></div><div class='xr-var-dims'>(epoch)</div><div class='xr-var-dtype'>float32</div><div class='xr-var-preview xr-preview'>0.15 0.15 0.15 ... 0.15 0.15 0.15</div><input id='attrs-39324fde-c40c-462f-aa05-366739fcf258' class='xr-var-attrs-in' type='checkbox' ><label for='attrs-39324fde-c40c-462f-aa05-366739fcf258' title='Show/Hide attributes'><svg class='icon xr-icon-file-text2'><use xlink:href='#icon-file-text2'></use></svg></label><input id='data-a806f94f-cb31-4c48-8748-ab7c65e4fd4e' class='xr-var-data-in' type='checkbox'><label for='data-a806f94f-cb31-4c48-8748-ab7c65e4fd4e' title='Show/Hide data repr'><svg class='icon xr-icon-database'><use xlink:href='#icon-database'></use></svg></label><div class='xr-var-attrs'><dl class='xr-attrs'><dt><span>FIELDNAM :</span></dt><dd>de_over_e_spectra</dd><dt><span>FORMAT :</span></dt><dd>F15.7</dd><dt><span>LABLAXIS :</span></dt><dd>de_over_e_spectra</dd><dt><span>VAR_TYPE :</span></dt><dd>support_data</dd><dt><span>FILLVAL :</span></dt><dd>-9.999999848243207e+30</dd><dt><span>DISPLAY_TYPE :</span></dt><dd>time_series</dd><dt><span>VALIDMIN :</span></dt><dd>0.0</dd><dt><span>VALIDMAX :</span></dt><dd>1.0</dd><dt><span>SCALEMIN :</span></dt><dd>0.0</dd><dt><span>SCALEMAX :</span></dt><dd>0.20000000298023224</dd><dt><span>UNITS :</span></dt><dd>eV/eV</dd><dt><span>CATDESC :</span></dt><dd>Spectra DeltaE/E</dd><dt><span>standard_name :</span></dt><dd>de_over_e_spectra</dd><dt><span>long_name :</span></dt><dd>de_over_e_spectra</dd><dt><span>units :</span></dt><dd>eV/eV</dd></dl></div><div class='xr-var-data'><pre>array([0.15, 0.15, 0.15, ..., 0.15, 0.15, 0.15], dtype=float32)</pre></div></li><li class='xr-var-item'><div class='xr-var-name'><span>accum_time_spectra</span></div><div class='xr-var-dims'>(epoch)</div><div class='xr-var-dtype'>float32</div><div class='xr-var-preview xr-preview'>1.306 1.306 1.306 ... 1.306 1.306</div><input id='attrs-860920b1-07f0-4848-9b87-d209f3833a66' class='xr-var-attrs-in' type='checkbox' ><label for='attrs-860920b1-07f0-4848-9b87-d209f3833a66' title='Show/Hide attributes'><svg class='icon xr-icon-file-text2'><use xlink:href='#icon-file-text2'></use></svg></label><input id='data-ea05281b-a36c-486d-b5ed-5b58b1c28e7e' class='xr-var-data-in' type='checkbox'><label for='data-ea05281b-a36c-486d-b5ed-5b58b1c28e7e' title='Show/Hide data repr'><svg class='icon xr-icon-database'><use xlink:href='#icon-database'></use></svg></label><div class='xr-var-attrs'><dl class='xr-attrs'><dt><span>FIELDNAM :</span></dt><dd>accum_time_spectra</dd><dt><span>FORMAT :</span></dt><dd>F15.7</dd><dt><span>LABLAXIS :</span></dt><dd>accum_time_spectra</dd><dt><span>VAR_TYPE :</span></dt><dd>support_data</dd><dt><span>FILLVAL :</span></dt><dd>-9.999999848243207e+30</dd><dt><span>DISPLAY_TYPE :</span></dt><dd>time_series</dd><dt><span>VALIDMIN :</span></dt><dd>0.0</dd><dt><span>VALIDMAX :</span></dt><dd>4.0</dd><dt><span>SCALEMIN :</span></dt><dd>0.0</dd><dt><span>SCALEMAX :</span></dt><dd>2.0</dd><dt><span>UNITS :</span></dt><dd>s</dd><dt><span>CATDESC :</span></dt><dd>Spectra Integration Time</dd><dt><span>standard_name :</span></dt><dd>accum_time_spectra</dd><dt><span>long_name :</span></dt><dd>accum_time_spectra</dd><dt><span>units :</span></dt><dd>s</dd></dl></div><div class='xr-var-data'><pre>array([1.3056, 1.3056, 1.3056, ..., 1.3056, 1.3056, 1.3056], dtype=float32)</pre></div></li><li class='xr-var-item'><div class='xr-var-name'><span>num_spec</span></div><div class='xr-var-dims'>(epoch)</div><div class='xr-var-dtype'>int16</div><div class='xr-var-preview xr-preview'>21600 21600 21600 ... 21600 21600</div><input id='attrs-558cd4e2-3325-46cc-b4e8-1f31a1781fbc' class='xr-var-attrs-in' type='checkbox' ><label for='attrs-558cd4e2-3325-46cc-b4e8-1f31a1781fbc' title='Show/Hide attributes'><svg class='icon xr-icon-file-text2'><use xlink:href='#icon-file-text2'></use></svg></label><input id='data-8cf04788-40c5-443e-a617-320077e7cdf1' class='xr-var-data-in' type='checkbox'><label for='data-8cf04788-40c5-443e-a617-320077e7cdf1' title='Show/Hide data repr'><svg class='icon xr-icon-database'><use xlink:href='#icon-database'></use></svg></label><div class='xr-var-attrs'><dl class='xr-attrs'><dt><span>FIELDNAM :</span></dt><dd>num_spec</dd><dt><span>FORMAT :</span></dt><dd>I7</dd><dt><span>LABLAXIS :</span></dt><dd>num_spec</dd><dt><span>VAR_TYPE :</span></dt><dd>support_data</dd><dt><span>FILLVAL :</span></dt><dd>-32768</dd><dt><span>DISPLAY_TYPE :</span></dt><dd>time_series</dd><dt><span>VALIDMIN :</span></dt><dd>0</dd><dt><span>VALIDMAX :</span></dt><dd>21600</dd><dt><span>SCALEMIN :</span></dt><dd>0</dd><dt><span>SCALEMAX :</span></dt><dd>21600</dd><dt><span>CATDESC :</span></dt><dd>Number of Spectra in File</dd><dt><span>standard_name :</span></dt><dd>num_spec</dd><dt><span>long_name :</span></dt><dd>num_spec</dd></dl></div><div class='xr-var-data'><pre>array([21600, 21600, 21600, ..., 21600, 21600, 21600], dtype=int16)</pre></div></li></ul></div></li><li class='xr-section-item'><input id='section-fd9d6efa-7b52-4498-95f6-d6bff4cd8de6' class='xr-section-summary-in' type='checkbox'  ><label for='section-fd9d6efa-7b52-4498-95f6-d6bff4cd8de6' class='xr-section-summary' >Indexes: <span>(2)</span></label><div class='xr-section-inline-details'></div><div class='xr-section-details'><ul class='xr-var-list'><li class='xr-var-item'><div class='xr-index-name'><div>energy_spectra</div></div><div class='xr-index-preview'>PandasIndex</div><div></div><input id='index-5eb842cd-453e-4b87-8f27-320fdbe102be' class='xr-index-data-in' type='checkbox'/><label for='index-5eb842cd-453e-4b87-8f27-320fdbe102be' title='Show/Hide index repr'><svg class='icon xr-icon-database'><use xlink:href='#icon-database'></use></svg></label><div class='xr-index-data'><pre>PandasIndex(Index([   23244.787109375,    20114.470703125,     17405.70703125,\n",
       "           15061.72265625,   13033.3994140625,    11278.224609375,\n",
       "             9759.4140625,     8445.138671875,     7307.853515625,\n",
       "          6323.7236328125,    5472.1240234375,      4735.20703125,\n",
       "          4097.5283203125,     3545.724609375,   3068.23095703125,\n",
       "          2655.0400390625,  2297.492431640625,  1988.094970703125,\n",
       "            1720.36328125,  1488.686279296875,  1288.208740234375,\n",
       "         1114.72900390625,  964.6112060546875,    834.70947265625,\n",
       "          722.30126953125,    625.03076171875,  540.8594360351562,\n",
       "        468.0233154296875, 404.99578857421875,  350.4560241699219,\n",
       "         303.260986328125,  262.4216003417969,  227.0819549560547,\n",
       "       196.50140380859375,        170.0390625, 147.14031982421875,\n",
       "        127.3253173828125, 110.17874145507812,  95.34124755859375,\n",
       "        82.50187683105469,  71.39155578613281, 61.777442932128906,\n",
       "       53.458030700683594,  46.25897216796875, 40.029396057128906,\n",
       "       34.638736724853516,  29.97402572631836,            25.9375],\n",
       "      dtype=&#x27;float32&#x27;, name=&#x27;energy_spectra&#x27;))</pre></div></li><li class='xr-var-item'><div class='xr-index-name'><div>epoch</div></div><div class='xr-index-preview'>PandasIndex</div><div></div><input id='index-c4ed06bb-8730-4d1f-8916-6e03f55a2fc4' class='xr-index-data-in' type='checkbox'/><label for='index-c4ed06bb-8730-4d1f-8916-6e03f55a2fc4' title='Show/Hide index repr'><svg class='icon xr-icon-database'><use xlink:href='#icon-database'></use></svg></label><div class='xr-index-data'><pre>PandasIndex(Index([473342472.02093726, 473342532.02093726, 473342592.02071434,\n",
       "       473342652.02047586, 473342712.02025294,    473342772.02003,\n",
       "       473342832.01979166,  473342892.0195685,  473342952.0193456,\n",
       "       473343012.01910734,\n",
       "       ...\n",
       "        473514671.4214969, 473514731.42124325,  473514791.4209745,\n",
       "        473514851.4207058,  473514911.4204369,  473514971.4201682,\n",
       "        473515031.4198992,  473515091.4196306, 473515151.41937685,\n",
       "        473515211.4191082],\n",
       "      dtype=&#x27;float64&#x27;, name=&#x27;epoch&#x27;, length=2880))</pre></div></li></ul></div></li><li class='xr-section-item'><input id='section-71062419-819b-4c92-bdbd-4a4c5b5b8456' class='xr-section-summary-in' type='checkbox'  ><label for='section-71062419-819b-4c92-bdbd-4a4c5b5b8456' class='xr-section-summary' >Attributes: <span>(24)</span></label><div class='xr-section-inline-details'></div><div class='xr-section-details'><dl class='xr-attrs'><dt><span>TITLE :</span></dt><dd>[&#x27;MAVEN SWIA Onboard Energy Spectra&#x27;]</dd><dt><span>Project :</span></dt><dd>[&#x27;MAVEN&gt;Mars Atmosphere and Volatile EvolutioN Mission&#x27;]</dd><dt><span>Discipline :</span></dt><dd>[&#x27;Planetary Physics&gt;Particles&#x27;]</dd><dt><span>Source_name :</span></dt><dd>[&#x27;MAVEN&gt;Mars Atmosphere and Volatile EvolutioN Mission&#x27;]</dd><dt><span>Descriptor :</span></dt><dd>[&#x27;SWIA&gt;Solar Wind Ion Analyzer&#x27;]</dd><dt><span>Data_type :</span></dt><dd>[&#x27;CAL&gt;Calibrated&#x27;]</dd><dt><span>Data_version :</span></dt><dd>[&#x27;v02r00&#x27;]</dd><dt><span>TEXT :</span></dt><dd>[&#x27;MAVEN SWIA Onboard Energy Spectra&#x27;]</dd><dt><span>MODS :</span></dt><dd>[&#x27;Revision 0&#x27;]</dd><dt><span>Logical_file_id :</span></dt><dd>[&#x27;maven_cal_swia_20150101_vv02r00&#x27;]</dd><dt><span>Logical_source :</span></dt><dd>[&#x27;SWIA.calibrated.onboard_svy_spec&#x27;]</dd><dt><span>Logical_source_description :</span></dt><dd>[&#x27;DERIVED FROM: MAVEN SWIA (Solar Wind Ion Analyzer), Onboard Energy Spectra&#x27;]</dd><dt><span>PI_name :</span></dt><dd>[&#x27;J.S. Halekas&#x27;]</dd><dt><span>PI_affiliation :</span></dt><dd>[&#x27;U Iowa&#x27;]</dd><dt><span>Instrument_type :</span></dt><dd>[&#x27;Plasma and Solar Wind&#x27;]</dd><dt><span>Mission_group :</span></dt><dd>[&#x27;MAVEN&#x27;]</dd><dt><span>Parents :</span></dt><dd>[&#x27;None&#x27;]</dd><dt><span>PDS_collection_id :</span></dt><dd>[&#x27;urn:nasa:pds:maven.swia.calibrated:data.onboard_svy_spec&#x27;]</dd><dt><span>PDS_start_time :</span></dt><dd>[&#x27;2015-01-01T00:00:04.836Z&#x27;]</dd><dt><span>PDS_stop_time :</span></dt><dd>[&#x27;2015-01-02T00:00:00.537Z&#x27;]</dd><dt><span>PDS_sclk_start_count :</span></dt><dd>[31020966359569.0]</dd><dt><span>PDS_sclk_stop_count :</span></dt><dd>[31026628384996.77]</dd><dt><span>leapseconds_kernel :</span></dt><dd>[&#x27;naif0012.tls&#x27;]</dd><dt><span>Spacecraft_clock_kernel :</span></dt><dd>[&#x27;MVN_SCLKSCET.00096.tsc&#x27;]</dd></dl></div></li></ul></div></div>"
      ],
      "text/plain": [
       "<xarray.Dataset> Size: 1MB\n",
       "Dimensions:                 (epoch: 2880, energy_spectra: 48)\n",
       "Coordinates:\n",
       "  * energy_spectra          (energy_spectra) float32 192B 2.324e+04 ... 25.94\n",
       "  * epoch                   (epoch) float64 23kB 4.733e+08 ... 4.735e+08\n",
       "Data variables:\n",
       "    time_met                (epoch) float64 23kB 4.733e+08 ... 4.735e+08\n",
       "    time_unix               (epoch) float64 23kB 1.42e+09 1.42e+09 ... 1.42e+09\n",
       "    atten_state             (epoch) uint8 3kB 2 2 2 2 2 2 2 2 ... 1 1 1 1 1 1 1\n",
       "    num_accum               (epoch) int16 6kB 1 1 1 1 1 1 1 1 ... 1 1 1 1 1 1 1\n",
       "    decom_flag              (epoch) float32 12kB 1.0 1.0 1.0 1.0 ... 1.0 1.0 1.0\n",
       "    spectra_counts          (epoch, energy_spectra) float32 553kB 0.0 ... 7.0\n",
       "    spectra_diff_en_fluxes  (epoch, energy_spectra) float32 553kB 0.0 ... 2.4...\n",
       "    geom_factor             (epoch) float32 12kB 0.00392 0.00392 ... 0.00392\n",
       "    de_over_e_spectra       (epoch) float32 12kB 0.15 0.15 0.15 ... 0.15 0.15\n",
       "    accum_time_spectra      (epoch) float32 12kB 1.306 1.306 ... 1.306 1.306\n",
       "    num_spec                (epoch) int16 6kB 21600 21600 21600 ... 21600 21600\n",
       "Attributes: (12/24)\n",
       "    TITLE:                       ['MAVEN SWIA Onboard Energy Spectra']\n",
       "    Project:                     ['MAVEN>Mars Atmosphere and Volatile Evoluti...\n",
       "    Discipline:                  ['Planetary Physics>Particles']\n",
       "    Source_name:                 ['MAVEN>Mars Atmosphere and Volatile Evoluti...\n",
       "    Descriptor:                  ['SWIA>Solar Wind Ion Analyzer']\n",
       "    Data_type:                   ['CAL>Calibrated']\n",
       "    ...                          ...\n",
       "    PDS_start_time:              ['2015-01-01T00:00:04.836Z']\n",
       "    PDS_stop_time:               ['2015-01-02T00:00:00.537Z']\n",
       "    PDS_sclk_start_count:        [31020966359569.0]\n",
       "    PDS_sclk_stop_count:         [31026628384996.77]\n",
       "    leapseconds_kernel:          ['naif0012.tls']\n",
       "    Spacecraft_clock_kernel:     ['MVN_SCLKSCET.00096.tsc']"
      ]
     },
     "execution_count": 12,
     "metadata": {},
     "output_type": "execute_result"
    }
   ],
   "source": [
    "start=\"2015-01-01T18:00:00.000\"\n",
    "end=\"2015-01-02T02:16:00.000\"\n",
    "kind = 'onboardsvyspec'\n",
    "data_path = '../swi/l2'\n",
    "\n",
    "kernel_path = '../maven_spice/maven_time_frames.tm'\n",
    "\n",
    "resampling = None #dict(res_freq = '1min', mode = 'median')\n",
    "swia_dataset = lsd.load_data(start, end, kind, data_path, kernel_path, resampling = resampling, thin_n = 15, )\n",
    "swia_dataset"
   ]
  },
  {
   "cell_type": "code",
   "execution_count": 13,
   "metadata": {
    "tags": []
   },
   "outputs": [
    {
     "name": "stdout",
     "output_type": "stream",
     "text": [
      "These files do not exist: \n",
      "\n",
      "--------------------------------------------------------------------\n",
      "Loading files: \n",
      "\n",
      " ../mag/l2/2015/01/mvn_mag_l2_2015002ss1s_20150102_v01_r01.sts "
     ]
    },
    {
     "data": {
      "text/html": [
       "<div>\n",
       "<style scoped>\n",
       "    .dataframe tbody tr th:only-of-type {\n",
       "        vertical-align: middle;\n",
       "    }\n",
       "\n",
       "    .dataframe tbody tr th {\n",
       "        vertical-align: top;\n",
       "    }\n",
       "\n",
       "    .dataframe thead th {\n",
       "        text-align: right;\n",
       "    }\n",
       "</style>\n",
       "<table border=\"1\" class=\"dataframe\">\n",
       "  <thead>\n",
       "    <tr style=\"text-align: right;\">\n",
       "      <th></th>\n",
       "      <th>time</th>\n",
       "      <th>Bx</th>\n",
       "      <th>By</th>\n",
       "      <th>Bz</th>\n",
       "      <th>X</th>\n",
       "      <th>Y</th>\n",
       "      <th>Z</th>\n",
       "    </tr>\n",
       "  </thead>\n",
       "  <tbody>\n",
       "    <tr>\n",
       "      <th>3240</th>\n",
       "      <td>4.734073e+08</td>\n",
       "      <td>-1.85</td>\n",
       "      <td>6.81</td>\n",
       "      <td>-0.38</td>\n",
       "      <td>1.670566</td>\n",
       "      <td>-1.137329</td>\n",
       "      <td>0.005085</td>\n",
       "    </tr>\n",
       "    <tr>\n",
       "      <th>3241</th>\n",
       "      <td>4.734073e+08</td>\n",
       "      <td>-3.03</td>\n",
       "      <td>4.82</td>\n",
       "      <td>0.11</td>\n",
       "      <td>1.680134</td>\n",
       "      <td>-1.135289</td>\n",
       "      <td>-0.005557</td>\n",
       "    </tr>\n",
       "    <tr>\n",
       "      <th>3242</th>\n",
       "      <td>4.734073e+08</td>\n",
       "      <td>-2.56</td>\n",
       "      <td>5.34</td>\n",
       "      <td>-1.18</td>\n",
       "      <td>1.689614</td>\n",
       "      <td>-1.133190</td>\n",
       "      <td>-0.016199</td>\n",
       "    </tr>\n",
       "    <tr>\n",
       "      <th>3243</th>\n",
       "      <td>4.734073e+08</td>\n",
       "      <td>-3.67</td>\n",
       "      <td>4.08</td>\n",
       "      <td>0.42</td>\n",
       "      <td>1.699005</td>\n",
       "      <td>-1.131031</td>\n",
       "      <td>-0.026840</td>\n",
       "    </tr>\n",
       "    <tr>\n",
       "      <th>3244</th>\n",
       "      <td>4.734073e+08</td>\n",
       "      <td>-3.43</td>\n",
       "      <td>4.90</td>\n",
       "      <td>1.70</td>\n",
       "      <td>1.708310</td>\n",
       "      <td>-1.128815</td>\n",
       "      <td>-0.037479</td>\n",
       "    </tr>\n",
       "    <tr>\n",
       "      <th>...</th>\n",
       "      <td>...</td>\n",
       "      <td>...</td>\n",
       "      <td>...</td>\n",
       "      <td>...</td>\n",
       "      <td>...</td>\n",
       "      <td>...</td>\n",
       "      <td>...</td>\n",
       "    </tr>\n",
       "    <tr>\n",
       "      <th>4723</th>\n",
       "      <td>4.734369e+08</td>\n",
       "      <td>-7.01</td>\n",
       "      <td>-4.70</td>\n",
       "      <td>-6.08</td>\n",
       "      <td>-0.871631</td>\n",
       "      <td>0.132741</td>\n",
       "      <td>0.578453</td>\n",
       "    </tr>\n",
       "    <tr>\n",
       "      <th>4724</th>\n",
       "      <td>4.734369e+08</td>\n",
       "      <td>-8.22</td>\n",
       "      <td>-6.02</td>\n",
       "      <td>-6.06</td>\n",
       "      <td>-0.862022</td>\n",
       "      <td>0.114862</td>\n",
       "      <td>0.592393</td>\n",
       "    </tr>\n",
       "    <tr>\n",
       "      <th>4725</th>\n",
       "      <td>4.734370e+08</td>\n",
       "      <td>-7.52</td>\n",
       "      <td>-11.68</td>\n",
       "      <td>-7.65</td>\n",
       "      <td>-0.852091</td>\n",
       "      <td>0.096941</td>\n",
       "      <td>0.606111</td>\n",
       "    </tr>\n",
       "    <tr>\n",
       "      <th>4726</th>\n",
       "      <td>4.734370e+08</td>\n",
       "      <td>-7.08</td>\n",
       "      <td>-3.02</td>\n",
       "      <td>-8.40</td>\n",
       "      <td>-0.841840</td>\n",
       "      <td>0.078984</td>\n",
       "      <td>0.619600</td>\n",
       "    </tr>\n",
       "    <tr>\n",
       "      <th>4727</th>\n",
       "      <td>4.734370e+08</td>\n",
       "      <td>1.94</td>\n",
       "      <td>5.85</td>\n",
       "      <td>-3.58</td>\n",
       "      <td>-0.831271</td>\n",
       "      <td>0.060997</td>\n",
       "      <td>0.632854</td>\n",
       "    </tr>\n",
       "  </tbody>\n",
       "</table>\n",
       "<p>1488 rows × 7 columns</p>\n",
       "</div>"
      ],
      "text/plain": [
       "              time    Bx     By    Bz         X         Y         Z\n",
       "3240  4.734073e+08 -1.85   6.81 -0.38  1.670566 -1.137329  0.005085\n",
       "3241  4.734073e+08 -3.03   4.82  0.11  1.680134 -1.135289 -0.005557\n",
       "3242  4.734073e+08 -2.56   5.34 -1.18  1.689614 -1.133190 -0.016199\n",
       "3243  4.734073e+08 -3.67   4.08  0.42  1.699005 -1.131031 -0.026840\n",
       "3244  4.734073e+08 -3.43   4.90  1.70  1.708310 -1.128815 -0.037479\n",
       "...            ...   ...    ...   ...       ...       ...       ...\n",
       "4723  4.734369e+08 -7.01  -4.70 -6.08 -0.871631  0.132741  0.578453\n",
       "4724  4.734369e+08 -8.22  -6.02 -6.06 -0.862022  0.114862  0.592393\n",
       "4725  4.734370e+08 -7.52 -11.68 -7.65 -0.852091  0.096941  0.606111\n",
       "4726  4.734370e+08 -7.08  -3.02 -8.40 -0.841840  0.078984  0.619600\n",
       "4727  4.734370e+08  1.94   5.85 -3.58 -0.831271  0.060997  0.632854\n",
       "\n",
       "[1488 rows x 7 columns]"
      ]
     },
     "execution_count": 13,
     "metadata": {},
     "output_type": "execute_result"
    }
   ],
   "source": [
    "freq_sampl = 20\n",
    "\n",
    "bow_shock_pars = {'x0':0.74, 'L':1.82, 'eps':1.01}\n",
    "smooth_factor = 15\n",
    "\n",
    "data_dict = dict(frame = \"ss\", sampl = \"1s\", start = start, end = end, \n",
    "                 freq_sampl = freq_sampl, folder_path = '../mag/l2', kernel_path = '../maven_spice/maven_time_frames.tm', \n",
    "                 orbits_file_path = '../maven_orbits.txt', spice_pck = 'pck00010.tpc')\n",
    "\n",
    "df_mag, _ = data_mse.load_data(data_dict, aberation = None)\n",
    "df_mag"
   ]
  },
  {
   "cell_type": "code",
   "execution_count": 14,
   "metadata": {
    "tags": []
   },
   "outputs": [],
   "source": [
    "meta_k = 'maven_2015_v11_150102_150102.tm'\n",
    "spice.furnsh(meta_k)\n"
   ]
  },
  {
   "cell_type": "code",
   "execution_count": 15,
   "metadata": {
    "tags": []
   },
   "outputs": [],
   "source": [
    "start_et = spice.str2et(start)\n",
    "end_et = spice.str2et(end)\n",
    "\n",
    "# Time step for trajectory points\n",
    "step_size = 20  # seconds\n",
    "\n",
    "# Generate time array\n",
    "times = np.arange(start_et, end_et, step_size)\n",
    "\n",
    "# Initialize arrays to store spacecraft positions\n",
    "positions = np.zeros((len(times), 3))\n",
    "alt = np.zeros(len(times)); lat = np.zeros(len(times)); long = np.zeros(len(times))\n",
    "# vx = np.zeros(len(times)); vy = np.zeros(len(times)); vz = np.zeros(len(times))\n",
    "# vel = np.zeros(len(times))\n",
    "re = spice.bodvcd(499, 'RADII', 3)[1][0]  # Mars equatorial radius\n",
    "rp = spice.bodvcd(499, 'RADII', 3)[1][2]  # Mars polar radius\n",
    "f = (re-rp) / re # flattening coefficient\n",
    "\n",
    "# Compute spacecraft positions at each time\n",
    "for i, et in enumerate(times):\n",
    "    state, _ = spice.spkgeo(-202, et, 'MAVEN_MSO', 499)\n",
    "\n",
    "    long[i], lat[i], alt[i] = spice.recpgr('MARS', state[:3], re, f)\n",
    "    # vx[i], vy[i], vz[i] = state[3:]\n",
    "    #sd=spiceypy.pxform('IAU_MARS','MAVEN_MSO',et)\n",
    "    positions[i] = state[:3]\n",
    "mars_radius = spice.bodvcd(499, 'RADII', 3)[1][0]  # Mars equatorial radius\n",
    "positions = positions / mars_radius"
   ]
  },
  {
   "cell_type": "code",
   "execution_count": 22,
   "metadata": {
    "tags": []
   },
   "outputs": [],
   "source": [
    "dt = 60*60\n",
    "et_lim = [spice.utc2et('2015-01-02T01:15:00'), spice.utc2et('2015-01-02T02:15:00')]\n",
    "et_ticks = np.arange(et_lim[0], et_lim[1], dt)\n",
    "lat = np.rad2deg(long)\n",
    "bow_shock_pars = {'x0':0.74, 'L':1.82, 'eps':1.01}\n",
    "x_new = positions[:,0] - bow_shock_pars['x0']\n",
    "# positions[i] = \n",
    "th_sp_cyl = np.arctan2(np.sqrt(positions[:,1]**2+positions[:,2]**2),positions[:,0])\n",
    "r_bs = mc.generic.bow_shock.bow_shock(bow_shock_pars['x0'], bow_shock_pars['L'], bow_shock_pars['eps'], th_sp_cyl)"
   ]
  },
  {
   "cell_type": "code",
   "execution_count": 23,
   "metadata": {
    "tags": []
   },
   "outputs": [
    {
     "data": {
      "image/png": "[encoded data removed]",
      "text/plain": [
       "<Figure size 1200x800 with 4 Axes>"
      ]
     },
     "metadata": {},
     "output_type": "display_data"
    }
   ],
   "source": [
    "et_tick_lim = [et_lim[0], et_lim[1]]\n",
    "# et_ticks = np.linspace(et_lim[0], et_lim[1], 8)\n",
    "et_ticks = np.arange(et_tick_lim[0], et_tick_lim[1], dt+4*1)\n",
    "\n",
    "fig, ax = plt.subplots(nrows=3,ncols=1, figsize=(12,8),sharex=True, layout='constrained')\n",
    "\n",
    "et_ticks_labels=[]\n",
    "et_ticks_labels.append(spice.timout(et_ticks[0], pictur = 'HR:MN') + '\\n'+spice.timout(et_ticks[0], pictur = 'YYYY-MM-DD'))\n",
    "et_ticks_labels+=[spice.timout(et_ticks[i], pictur = 'HR:MN') for i in range(1, len(et_ticks))]\n",
    "\n",
    "cmap = swia_dataset['spectra_diff_en_fluxes'].T.plot.pcolormesh(yscale='log', cmap='jet', norm = colors.LogNorm(), vmin=1e4,ax=ax[0],vmax=1e8, add_colorbar=False,)\n",
    "cb = plt.colorbar(cmap, orientation = 'vertical', pad = 0.00000)\n",
    "cb.set_label(label = f\"Differential Energy Flux \\n [{swia_dataset.spectra_diff_en_fluxes.attrs['UNITS']}]\", fontsize = 14)\n",
    "ax[2].plot(times, alt, 'black', label = 'MAVEN')\n",
    "ax[2].plot(times, r_bs*mars_radius, 'red', linestyle = '--', label = 'bow shock (Hall et al. 2016)')\n",
    "ax[1].plot(df_mag.time, df_mag.Bx, 'black', label = r'$B_{\\rm x}$')\n",
    "ax[1].plot(df_mag.time, df_mag.By, 'green', label = r'$B_{\\rm y}$')\n",
    "ax[1].plot(df_mag.time, df_mag.Bz, 'red', label = r'$B_{\\rm z}$')\n",
    "ax[1].legend()\n",
    "ax[1].grid()\n",
    "ax[1].set_ylabel('B [nT]', fontsize = 14)\n",
    "def altitude(alt):\n",
    "    \n",
    "    return alt\n",
    "\n",
    "def altitude_norm(alt):\n",
    "    \n",
    "    return alt/mars_radius + 1\n",
    "\n",
    "ax[0].set_ylabel('SWIA Energy \\n [eV]', fontsize = 14)\n",
    "ax[0].set_xticks(ticks = et_ticks, labels = '');\n",
    "ax[2].set_xticks(ticks = et_ticks, labels = et_ticks_labels);\n",
    "ax[0].set_xlabel('')\n",
    "ax[2].set_xlabel(f'UTC [HR:MN]', fontsize = 14);\n",
    "ax[2].set_ylabel('Altitude [km]', fontsize = 14)\n",
    "ax[0].set_xlim(et_lim)\n",
    "ax[2].set_xlim(et_lim)\n",
    "ax[2].set_ylim([0, 8000])\n",
    "ax[2].legend(loc='lower right')\n",
    "ax[2].grid()\n",
    "secax = ax[2].secondary_yaxis('right', functions=(altitude_norm, altitude))\n",
    "secax.set_ylabel(r'r $[R_{\\rm M}]$', fontsize = 14);\n",
    "secax.set_yticks(ticks = np.around(altitude_norm(ax[2].get_yticks()), decimals = 1));\n",
    "# fig.savefig('SWIA_altitude.png', dpi = 800)"
   ]
  },
  {
   "cell_type": "code",
   "execution_count": 411,
   "metadata": {
    "tags": []
   },
   "outputs": [
    {
     "data": {
      "text/plain": [
       "1.0"
      ]
     },
     "execution_count": 411,
     "metadata": {},
     "output_type": "execute_result"
    }
   ],
   "source": [
    "len(et_ticks_labels)/len(et_ticks)"
   ]
  },
  {
   "cell_type": "code",
   "execution_count": 291,
   "metadata": {
    "tags": []
   },
   "outputs": [],
   "source": [
    "import mc.generic.bow_shock"
   ]
  },
  {
   "cell_type": "code",
   "execution_count": 431,
   "metadata": {
    "tags": []
   },
   "outputs": [
    {
     "ename": "AttributeError",
     "evalue": "'Axes' object has no attribute 'get_cbar'",
     "output_type": "error",
     "traceback": [
      "\u001b[0;31m---------------------------------------------------------------------------\u001b[0m",
      "\u001b[0;31mAttributeError\u001b[0m                            Traceback (most recent call last)",
      "Cell \u001b[0;32mIn[431], line 1\u001b[0m\n\u001b[0;32m----> 1\u001b[0m ax[\u001b[38;5;241m1\u001b[39m]\u001b[38;5;241m.\u001b[39mget_cbar\n",
      "\u001b[0;31mAttributeError\u001b[0m: 'Axes' object has no attribute 'get_cbar'"
     ]
    }
   ],
   "source": [
    "ax[1].get_cbar"
   ]
  },
  {
   "cell_type": "code",
   "execution_count": null,
   "metadata": {},
   "outputs": [],
   "source": []
  }
 ],
 "metadata": {
  "kernelspec": {
   "display_name": "Python 3 (ipykernel)",
   "language": "python",
   "name": "python3"
  },
  "language_info": {
   "codemirror_mode": {
    "name": "ipython",
    "version": 3
   },
   "file_extension": ".py",
   "mimetype": "text/x-python",
   "name": "python",
   "nbconvert_exporter": "python",
   "pygments_lexer": "ipython3",
   "version": "3.11.5"
  }
 },
 "nbformat": 4,
 "nbformat_minor": 4
}
